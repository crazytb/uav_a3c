{
 "cells": [
  {
   "cell_type": "markdown",
   "id": "7628bbc4",
   "metadata": {},
   "source": [
    "# Training Metrics Analysis\n",
    "This notebook loads `runs/all_training_metrics.csv` (the master log you created while training) and plots trends for:\n",
    "- reward\n",
    "- total_loss\n",
    "- policy_loss\n",
    "- value_loss\n",
    "- entropy\n",
    "\n",
    "## How to use\n",
    "1. Set `CSV_PATH` if your file lives elsewhere.\n",
    "2. Run the **Setup** cell.\n",
    "3. Use the helper functions to plot per-run/per-label curves.\n",
    "4. Optionally set `rolling` window (e.g., 50) to smooth noisy curves.\n"
   ]
  },
  {
   "cell_type": "code",
   "execution_count": 1,
   "id": "2409456b",
   "metadata": {},
   "outputs": [
    {
     "name": "stdout",
     "output_type": "stream",
     "text": [
      "Rows: 30000\n",
      "Columns: ['run_id', 'label', 'episode', 'reward', 'policy_loss', 'value_loss', 'entropy', 'total_loss']\n",
      "\n",
      "Unique run_id: 2\n",
      "Unique labels: ['Global', 'Individual_0', 'Individual_1', 'Individual_2', 'Individual_3', 'Individual_4']\n",
      "\n",
      "Sample rows:\n"
     ]
    },
    {
     "data": {
      "application/vnd.microsoft.datawrangler.viewer.v0+json": {
       "columns": [
        {
         "name": "index",
         "rawType": "int64",
         "type": "integer"
        },
        {
         "name": "run_id",
         "rawType": "object",
         "type": "string"
        },
        {
         "name": "label",
         "rawType": "object",
         "type": "string"
        },
        {
         "name": "episode",
         "rawType": "int64",
         "type": "integer"
        },
        {
         "name": "reward",
         "rawType": "float64",
         "type": "float"
        },
        {
         "name": "policy_loss",
         "rawType": "float64",
         "type": "float"
        },
        {
         "name": "value_loss",
         "rawType": "float64",
         "type": "float"
        },
        {
         "name": "entropy",
         "rawType": "float64",
         "type": "float"
        },
        {
         "name": "total_loss",
         "rawType": "float64",
         "type": "float"
        }
       ],
       "ref": "a81cb728-ba96-4d75-a978-76dfc3fb360e",
       "rows": [
        [
         "0",
         "a3c_20250923_143004",
         "Global",
         "1",
         "1853.5",
         "-0.0052478182129561",
         "34926.596875",
         "1.0905900239944455",
         "17463.28154296875"
        ],
        [
         "1",
         "a3c_20250923_143004",
         "Global",
         "2",
         "1798.9",
         "0.0079055177513509",
         "14001.150396728515",
         "1.0842319965362548",
         "7000.572232055664"
        ],
        [
         "2",
         "a3c_20250923_143004",
         "Global",
         "3",
         "1641.0",
         "-0.0220644365996121",
         "3385.474609375",
         "1.095064902305603",
         "1692.7042724609375"
        ],
        [
         "3",
         "a3c_20250923_143004",
         "Global",
         "4",
         "1755.2",
         "-0.0141648077405988",
         "11809.899096679688",
         "1.0939422369003295",
         "5904.924230957031"
        ],
        [
         "4",
         "a3c_20250923_143004",
         "Global",
         "5",
         "1957.1",
         "-0.0102279086364433",
         "28843.5732421875",
         "1.0829112768173217",
         "14421.765551757811"
        ]
       ],
       "shape": {
        "columns": 8,
        "rows": 5
       }
      },
      "text/html": [
       "<div>\n",
       "<style scoped>\n",
       "    .dataframe tbody tr th:only-of-type {\n",
       "        vertical-align: middle;\n",
       "    }\n",
       "\n",
       "    .dataframe tbody tr th {\n",
       "        vertical-align: top;\n",
       "    }\n",
       "\n",
       "    .dataframe thead th {\n",
       "        text-align: right;\n",
       "    }\n",
       "</style>\n",
       "<table border=\"1\" class=\"dataframe\">\n",
       "  <thead>\n",
       "    <tr style=\"text-align: right;\">\n",
       "      <th></th>\n",
       "      <th>run_id</th>\n",
       "      <th>label</th>\n",
       "      <th>episode</th>\n",
       "      <th>reward</th>\n",
       "      <th>policy_loss</th>\n",
       "      <th>value_loss</th>\n",
       "      <th>entropy</th>\n",
       "      <th>total_loss</th>\n",
       "    </tr>\n",
       "  </thead>\n",
       "  <tbody>\n",
       "    <tr>\n",
       "      <th>0</th>\n",
       "      <td>a3c_20250923_143004</td>\n",
       "      <td>Global</td>\n",
       "      <td>1</td>\n",
       "      <td>1853.5</td>\n",
       "      <td>-0.005248</td>\n",
       "      <td>34926.596875</td>\n",
       "      <td>1.090590</td>\n",
       "      <td>17463.281543</td>\n",
       "    </tr>\n",
       "    <tr>\n",
       "      <th>1</th>\n",
       "      <td>a3c_20250923_143004</td>\n",
       "      <td>Global</td>\n",
       "      <td>2</td>\n",
       "      <td>1798.9</td>\n",
       "      <td>0.007906</td>\n",
       "      <td>14001.150397</td>\n",
       "      <td>1.084232</td>\n",
       "      <td>7000.572232</td>\n",
       "    </tr>\n",
       "    <tr>\n",
       "      <th>2</th>\n",
       "      <td>a3c_20250923_143004</td>\n",
       "      <td>Global</td>\n",
       "      <td>3</td>\n",
       "      <td>1641.0</td>\n",
       "      <td>-0.022064</td>\n",
       "      <td>3385.474609</td>\n",
       "      <td>1.095065</td>\n",
       "      <td>1692.704272</td>\n",
       "    </tr>\n",
       "    <tr>\n",
       "      <th>3</th>\n",
       "      <td>a3c_20250923_143004</td>\n",
       "      <td>Global</td>\n",
       "      <td>4</td>\n",
       "      <td>1755.2</td>\n",
       "      <td>-0.014165</td>\n",
       "      <td>11809.899097</td>\n",
       "      <td>1.093942</td>\n",
       "      <td>5904.924231</td>\n",
       "    </tr>\n",
       "    <tr>\n",
       "      <th>4</th>\n",
       "      <td>a3c_20250923_143004</td>\n",
       "      <td>Global</td>\n",
       "      <td>5</td>\n",
       "      <td>1957.1</td>\n",
       "      <td>-0.010228</td>\n",
       "      <td>28843.573242</td>\n",
       "      <td>1.082911</td>\n",
       "      <td>14421.765552</td>\n",
       "    </tr>\n",
       "  </tbody>\n",
       "</table>\n",
       "</div>"
      ],
      "text/plain": [
       "                run_id   label  episode  reward  policy_loss    value_loss  \\\n",
       "0  a3c_20250923_143004  Global        1  1853.5    -0.005248  34926.596875   \n",
       "1  a3c_20250923_143004  Global        2  1798.9     0.007906  14001.150397   \n",
       "2  a3c_20250923_143004  Global        3  1641.0    -0.022064   3385.474609   \n",
       "3  a3c_20250923_143004  Global        4  1755.2    -0.014165  11809.899097   \n",
       "4  a3c_20250923_143004  Global        5  1957.1    -0.010228  28843.573242   \n",
       "\n",
       "    entropy    total_loss  \n",
       "0  1.090590  17463.281543  \n",
       "1  1.084232   7000.572232  \n",
       "2  1.095065   1692.704272  \n",
       "3  1.093942   5904.924231  \n",
       "4  1.082911  14421.765552  "
      ]
     },
     "metadata": {},
     "output_type": "display_data"
    }
   ],
   "source": [
    "# === Setup ===\n",
    "stamp = \"20250923_143004\"\n",
    "CSV_PATH = f\"runs/all_training_metrics_{stamp}.csv\"  # change this if needed\n",
    "\n",
    "import pandas as pd\n",
    "import matplotlib.pyplot as plt\n",
    "from pathlib import Path\n",
    "from drl_framework import params\n",
    "\n",
    "# Load\n",
    "df = pd.read_csv(CSV_PATH)\n",
    "\n",
    "# Basic sanity check / peek\n",
    "print(\"Rows:\", len(df))\n",
    "print(\"Columns:\", list(df.columns))\n",
    "print(\"\\nUnique run_id:\", df['run_id'].nunique())\n",
    "print(\"Unique labels:\", sorted(df['label'].unique()))\n",
    "print(\"\\nSample rows:\")\n",
    "display(df.head())\n",
    "\n",
    "# Sort for consistency\n",
    "df = df.sort_values(['run_id','label','episode']).reset_index(drop=True)\n"
   ]
  },
  {
   "cell_type": "code",
   "execution_count": 2,
   "id": "101f51b0",
   "metadata": {},
   "outputs": [],
   "source": [
    "# === Helpers ===\n",
    "def get_df(run_id=None, label=None):\n",
    "    sub = df.copy()\n",
    "    if run_id is not None:\n",
    "        sub = sub[sub['run_id'] == run_id]\n",
    "    if label is not None:\n",
    "        sub = sub[sub['label'] == label]\n",
    "    return sub.sort_values('episode')\n",
    "\n",
    "def plot_metric(run_id=None, label=None, metric='reward', rolling=None, save=False, outdir='plots'):\n",
    "    data = get_df(run_id, label)\n",
    "    if data.empty:\n",
    "        print(\"No data for the given filter.\")\n",
    "        return\n",
    "    y = data[metric]\n",
    "    if rolling is not None and rolling > 1:\n",
    "        y = y.rolling(rolling, min_periods=1).mean()\n",
    "\n",
    "    plt.figure()\n",
    "    plt.plot(data['episode'], y)\n",
    "    plt.xlabel('Episode')\n",
    "    plt.ylabel(metric.replace('_',' ').title())\n",
    "    title = f\"{metric.replace('_',' ').title()} vs Episode\"\n",
    "    if label: title += f\" - {label}\"\n",
    "    if run_id: title += f\" - {run_id}\"\n",
    "    plt.title(title)\n",
    "    plt.tight_layout()\n",
    "    if save:\n",
    "        Path(outdir).mkdir(parents=True, exist_ok=True)\n",
    "        fname = f\"{metric}_{(label or 'All')}_{(run_id or 'All')}.png\".replace('/','-')\n",
    "        plt.savefig(Path(outdir)/fname, dpi=180)\n",
    "    plt.show()\n",
    "\n",
    "def plot_compare_labels(run_id, metric='reward', rolling=None):\n",
    "    data = df[df['run_id'] == run_id]\n",
    "    if data.empty:\n",
    "        print(\"No data for this run_id.\")\n",
    "        return\n",
    "    labels = sorted(data['label'].unique())\n",
    "    plt.figure()\n",
    "    for lb in labels:\n",
    "        sub = data[data['label'] == lb].sort_values('episode')\n",
    "        series = sub[metric]\n",
    "        if rolling is not None and rolling > 1:\n",
    "            series = series.rolling(rolling, min_periods=1).mean()\n",
    "        plt.plot(sub['episode'], series, label=lb)\n",
    "    plt.xlabel('Episode')\n",
    "    plt.ylabel(metric.replace('_',' ').title())\n",
    "    plt.title(f\"{metric.replace('_',' ').title()} vs Episode - {run_id}\")\n",
    "    plt.legend()\n",
    "    plt.tight_layout()\n",
    "    plt.show()\n"
   ]
  },
  {
   "cell_type": "markdown",
   "id": "ee711a7c",
   "metadata": {},
   "source": [
    "## Quick start\n",
    "- The next cell picks the most recent `run_id` by default and label `\"Global\"`.\n",
    "- Adjust `RUN_ID` and `LABEL` as needed.\n"
   ]
  },
  {
   "cell_type": "code",
   "execution_count": 3,
   "id": "1e26f57f",
   "metadata": {},
   "outputs": [
    {
     "data": {
      "text/plain": [
       "<matplotlib.legend.Legend at 0x30ed71550>"
      ]
     },
     "execution_count": 3,
     "metadata": {},
     "output_type": "execute_result"
    },
    {
     "data": {
      "image/png": "[encoded data removed]",
      "text/plain": [
       "<Figure size 640x480 with 1 Axes>"
      ]
     },
     "metadata": {},
     "output_type": "display_data"
    }
   ],
   "source": [
    "plt.figure()\n",
    "rolling = 500\n",
    "\n",
    "for label in sorted(df['label'].unique()):\n",
    "    if label == 'Global':\n",
    "        plt.plot(df[df['label']==label]['episode'], df[df['label']==label]['reward'].rolling(rolling, min_periods=1).mean(), label=label)\n",
    "    else:\n",
    "        plt.plot(df[df['label']==label]['episode'], df[df['label']==label]['reward'].rolling(rolling, min_periods=1).mean(), label=label)\n",
    "\n",
    "plt.xlabel('Episode')\n",
    "plt.ylabel('Reward')\n",
    "plt.legend()"
   ]
  },
  {
   "cell_type": "markdown",
   "id": "9f004ac7",
   "metadata": {},
   "source": [
    "# Evaluation log analysis"
   ]
  },
  {
   "cell_type": "code",
   "execution_count": 31,
   "id": "a067ffb7",
   "metadata": {},
   "outputs": [
    {
     "name": "stdout",
     "output_type": "stream",
     "text": [
      "Env 0, A3C - Episodes: 10, Avg. Reward: 1420.8\n",
      "Env 0, Worker 0 - Episodes: 10, Avg. Reward: 998.4\n",
      "Env 0, Worker 1 - Episodes: 10, Avg. Reward: 1350.05\n",
      "Env 0, Worker 2 - Episodes: 10, Avg. Reward: 1152.3\n",
      "Env 0, Worker 3 - Episodes: 10, Avg. Reward: 857.0\n",
      "Env 0, Worker 4 - Episodes: 10, Avg. Reward: 1153.85\n",
      "Env 1, A3C - Episodes: 10, Avg. Reward: 1868.4\n",
      "Env 1, Worker 0 - Episodes: 10, Avg. Reward: 1538.15\n",
      "Env 1, Worker 1 - Episodes: 10, Avg. Reward: 1899.25\n",
      "Env 1, Worker 2 - Episodes: 10, Avg. Reward: 1344.7\n",
      "Env 1, Worker 3 - Episodes: 10, Avg. Reward: 1394.1\n",
      "Env 1, Worker 4 - Episodes: 10, Avg. Reward: 1522.85\n",
      "Env 2, A3C - Episodes: 10, Avg. Reward: 1012.65\n",
      "Env 2, Worker 0 - Episodes: 10, Avg. Reward: 731.8\n",
      "Env 2, Worker 1 - Episodes: 10, Avg. Reward: 1007.4\n",
      "Env 2, Worker 2 - Episodes: 10, Avg. Reward: 909.9\n",
      "Env 2, Worker 3 - Episodes: 10, Avg. Reward: 607.65\n",
      "Env 2, Worker 4 - Episodes: 10, Avg. Reward: 732.05\n",
      "Env 3, A3C - Episodes: 10, Avg. Reward: 2063.8\n",
      "Env 3, Worker 0 - Episodes: 10, Avg. Reward: 1822.45\n",
      "Env 3, Worker 1 - Episodes: 10, Avg. Reward: 2078.3\n",
      "Env 3, Worker 2 - Episodes: 10, Avg. Reward: 1453.25\n",
      "Env 3, Worker 3 - Episodes: 10, Avg. Reward: 1470.45\n",
      "Env 3, Worker 4 - Episodes: 10, Avg. Reward: 1788.25\n",
      "Env 4, A3C - Episodes: 10, Avg. Reward: 1905.45\n",
      "Env 4, Worker 0 - Episodes: 10, Avg. Reward: 1551.35\n",
      "Env 4, Worker 1 - Episodes: 10, Avg. Reward: 1850.35\n",
      "Env 4, Worker 2 - Episodes: 10, Avg. Reward: 1337.4\n",
      "Env 4, Worker 3 - Episodes: 10, Avg. Reward: 1314.75\n",
      "Env 4, Worker 4 - Episodes: 10, Avg. Reward: 1423.35\n"
     ]
    },
    {
     "data": {
      "text/plain": [
       "<Figure size 1200x800 with 0 Axes>"
      ]
     },
     "metadata": {},
     "output_type": "display_data"
    }
   ],
   "source": [
    "import itertools\n",
    "import pandas as pd\n",
    "import matplotlib.pyplot as plt\n",
    "\n",
    "worker_ids = range(5)\n",
    "env_ids = range(5)\n",
    "\n",
    "# Make a blank figure\n",
    "plt.figure(figsize=(12, 8))\n",
    "\n",
    "# Read A3C CSV files\n",
    "for env in env_ids:\n",
    "    df = pd.read_csv(f\"a3c_global_env{env}_actions.csv\")\n",
    "    # Make a list that contains the sum of rewards for each episode\n",
    "    episode_rewards = df.groupby(\"episode\")[\"reward\"].sum().tolist()\n",
    "    print(f\"Env {env}, A3C - Episodes: {len(episode_rewards)}, Avg. Reward: {sum(episode_rewards)/len(episode_rewards)}\")\n",
    "\n",
    "    for worker_id in worker_ids:\n",
    "        df = pd.read_csv(f\"individual_w{worker_id}_env{env}_actions.csv\")\n",
    "        # Make a list that contains the sum of rewards for each episode\n",
    "        episode_rewards = df.groupby(\"episode\")[\"reward\"].sum().tolist()\n",
    "        print(f\"Env {env}, Worker {worker_id} - Episodes: {len(episode_rewards)}, Avg. Reward: {sum(episode_rewards)/len(episode_rewards)}\")\n",
    "\n",
    "# for worker_id, env_id in itertools.product(worker_ids, env_ids):\n",
    "#     df = pd.read_csv(f\"individual_w{worker_id}_env{env_id}_actions.csv\")\n",
    "#     # Make a list that contains the sum of rewards for each episode\n",
    "#     episode_rewards = df.groupby(\"episode\")[\"reward\"].sum().tolist()\n",
    "#     print(f\"Worker {worker_id}, Env {env_id} - Episodes: {len(episode_rewards)}, Avg. Reward: {sum(episode_rewards)/len(episode_rewards)}\")\n"
   ]
  },
  {
   "cell_type": "code",
   "execution_count": null,
   "id": "f1e6a51b",
   "metadata": {},
   "outputs": [],
   "source": []
  },
  {
   "cell_type": "code",
   "execution_count": 19,
   "id": "79ebf8c7",
   "metadata": {},
   "outputs": [
    {
     "name": "stdout",
     "output_type": "stream",
     "text": [
      "saved: []\n"
     ]
    }
   ],
   "source": [
    "import os, glob, re, pandas as pd, numpy as np, matplotlib.pyplot as plt\n",
    "\n",
    "# 파일 패턴: a3c_global_env{0~4}_actions.csv, individual_w{0~4}_env{0~4}_actions.csv\n",
    "pattern = re.compile(r\"/mnt/data/(a3c_global|individual_w\\d+)_env(\\d+)_actions\\.csv$\")\n",
    "\n",
    "# 파일 수집\n",
    "files = sorted(f for f in glob.glob(\"/mnt/data/*_actions.csv\") if pattern.search(f))\n",
    "by_env = {}\n",
    "for f in files:\n",
    "    m = pattern.search(f)\n",
    "    agent = m.group(1)         # 'a3c_global' or 'individual_w{k}'\n",
    "    env = int(m.group(2))      # 0..4\n",
    "    by_env.setdefault(env, {})[agent] = f\n",
    "\n",
    "def episode_sums(csv_path):\n",
    "    df = pd.read_csv(csv_path)\n",
    "    # episode별 reward 합계\n",
    "    ep = df.groupby(\"episode\", as_index=False)[\"reward\"].sum().sort_values(\"episode\").reset_index(drop=True)\n",
    "    return ep\n",
    "\n",
    "out_paths = []\n",
    "for env, agents in sorted(by_env.items()):\n",
    "    plt.figure(figsize=(8, 4.5))\n",
    "    any_plotted = False\n",
    "    # a3c + w0~w4 순서로 그리기 (없는 파일은 건너뜀)\n",
    "    for agent in [\"a3c_global\", \"individual_w0\", \"individual_w1\", \"individual_w2\", \"individual_w3\", \"individual_w4\"]:\n",
    "        if agent in agents:\n",
    "            ep = episode_sums(agents[agent])\n",
    "            plt.plot(ep[\"episode\"].values, ep[\"reward\"].values, label=agent.replace(\"_\",\" \"))\n",
    "            any_plotted = True\n",
    "    if not any_plotted:\n",
    "        plt.close()\n",
    "        continue\n",
    "    plt.title(f\"Episode Reward (sum) per Agent — env{env}\")\n",
    "    plt.xlabel(\"Episode\")\n",
    "    plt.ylabel(\"Sum of reward in episode\")\n",
    "    plt.legend()\n",
    "    plt.tight_layout()\n",
    "    out = f\"/mnt/data/episode_rewards_env{env}.png\"\n",
    "    plt.savefig(out, dpi=150, bbox_inches=\"tight\")\n",
    "    out_paths.append(out)\n",
    "    plt.show()\n",
    "\n",
    "print(\"saved:\", out_paths)\n"
   ]
  },
  {
   "cell_type": "code",
   "execution_count": 8,
   "id": "720ea956",
   "metadata": {},
   "outputs": [
    {
     "data": {
      "text/plain": [
       "<All keys matched successfully>"
      ]
     },
     "execution_count": 8,
     "metadata": {},
     "output_type": "execute_result"
    }
   ],
   "source": [
    "from drl_framework.networks import RecurrentActorCritic\n",
    "from drl_framework.custom_env import make_env\n",
    "from drl_framework.utils import flatten_dict_values\n",
    "import drl_framework.params as params\n",
    "import torch\n",
    "import torch.nn.functional as F\n",
    "\n",
    "device = params.device\n",
    "ENV_PARAMS = params.ENV_PARAMS\n",
    "REWARD_PARAMS = params.REWARD_PARAMS\n",
    "hidden_dim = params.hidden_dim\n",
    "n_workers = params.n_workers\n",
    "\n",
    "# 임시 env로 상태/행동 차원 파악\n",
    "temp_env_fn = make_env(**ENV_PARAMS)\n",
    "temp_env = temp_env_fn()\n",
    "sample_obs, _ = temp_env.reset()\n",
    "state_dim = len(flatten_dict_values(sample_obs))\n",
    "action_dim = temp_env.action_space.n\n",
    "temp_env.close()\n",
    "\n",
    "model_path = f\"runs/a3c_{stamp}/models/global_final.pth\"\n",
    "model = RecurrentActorCritic(state_dim, action_dim, hidden_dim).to(device)\n",
    "state_dict = torch.load(model_path, map_location=device)\n",
    "model.load_state_dict(state_dict)"
   ]
  },
  {
   "cell_type": "code",
   "execution_count": 9,
   "id": "9e60fcb2",
   "metadata": {},
   "outputs": [
    {
     "name": "stdout",
     "output_type": "stream",
     "text": [
      "\n",
      "=== Test 1 ===\n",
      "Sample action logits: [[ 0.62545025  0.49865967 -0.89701277]]\n",
      "Prob distribution: [[0.47639647 0.4196663  0.10393725]]\n",
      "\n",
      "=== Test 2 ===\n",
      "Sample action logits: [[ 1.2794486  1.1052282 -2.1423569]]\n",
      "Prob distribution: [[0.53396976 0.44859424 0.01743594]]\n",
      "\n",
      "=== Test 3 ===\n",
      "Sample action logits: [[ 1.3007094  1.1168756 -2.1656992]]\n",
      "Prob distribution: [[0.5366813  0.44655865 0.01676001]]\n",
      "\n",
      "=== Test 4 ===\n",
      "Sample action logits: [[ 1.2865068  1.1065483 -2.13123  ]]\n",
      "Prob distribution: [[0.5353057  0.44714347 0.01755083]]\n",
      "\n",
      "=== Test 5 ===\n",
      "Sample action logits: [[ 1.3002574  1.1163673 -2.1648633]]\n",
      "Prob distribution: [[0.53668326 0.4465351  0.01678167]]\n",
      "\n",
      "=== Test 6 ===\n",
      "Sample action logits: [[ 1.3008156  1.117     -2.1660526]]\n",
      "Prob distribution: [[0.5366811  0.44656658 0.01675231]]\n",
      "\n",
      "=== Test 7 ===\n",
      "Sample action logits: [[ 0.17476183  0.19953136 -0.35136965]]\n",
      "Prob distribution: [[0.3822681  0.39185494 0.22587702]]\n",
      "\n",
      "=== Test 8 ===\n",
      "Sample action logits: [[ 1.3008178  1.1170018 -2.1660554]]\n",
      "Prob distribution: [[0.5366813  0.44656652 0.01675223]]\n",
      "\n",
      "=== Test 9 ===\n",
      "Sample action logits: [[ 1.2997894  1.1151954 -2.1622722]]\n",
      "Prob distribution: [[0.53682435 0.44633818 0.01683751]]\n",
      "\n",
      "=== Test 10 ===\n",
      "Sample action logits: [[ 1.2876531  1.1095387 -2.1477287]]\n",
      "Prob distribution: [[0.5350284  0.4477367  0.01723493]]\n"
     ]
    }
   ],
   "source": [
    "model.eval()\n",
    "hx = model.init_hidden(batch_size=1, device=device)\n",
    "\n",
    "with torch.no_grad():\n",
    "    for i in range(10):  # 10번 반복 테스트\n",
    "        # (1, 49) 크기의 랜덤 텐서 생성\n",
    "        obs_tensor = torch.randn(1, 49, dtype=torch.float32, device=device)\n",
    "        hx = model.init_hidden(batch_size=1, device=device) \n",
    "\n",
    "        logits, value, hx = model.step(obs_tensor, hx)\n",
    "        print(f\"\\n=== Test {i+1} ===\")\n",
    "        print(\"Sample action logits:\", logits.cpu().numpy())\n",
    "        print(\"Prob distribution:\", F.softmax(logits, dim=-1).cpu().numpy())"
   ]
  },
  {
   "cell_type": "code",
   "execution_count": 10,
   "id": "4f77076c",
   "metadata": {},
   "outputs": [],
   "source": [
    "def call_step_or_forward(model, obs, hx=None):\n",
    "    \"\"\"model.step이 있으면 (logits,value,hx)로 가정하고 호출,\n",
    "       없으면 model(obs) 호출 (logits,value) 또는 logits 만 반환.\"\"\"\n",
    "    if hasattr(model, \"step\"):\n",
    "        if hx is None and hasattr(model, \"init_hidden\"):\n",
    "            hx = model.init_hidden(batch_size=obs.shape[0], device=obs.device)\n",
    "        return model.step(obs, hx)\n",
    "    else:\n",
    "        out = model(obs)\n",
    "        # 반환 형태 정리\n",
    "        if isinstance(out, tuple):\n",
    "            if len(out) == 3:   # (logits, value, hx)\n",
    "                return out\n",
    "            elif len(out) == 2: # (logits, value)\n",
    "                logits, value = out\n",
    "                return logits, value, None\n",
    "        # logits만 있는 경우\n",
    "        return out, None, None"
   ]
  },
  {
   "cell_type": "code",
   "execution_count": 11,
   "id": "91350729",
   "metadata": {},
   "outputs": [
    {
     "name": "stdout",
     "output_type": "stream",
     "text": [
      "\n",
      "[Param norms: smallest first]\n",
      "policy.bias                                         norm=8.6680e-03  mean|p|=4.7875e-03  shape=(3,)\n",
      "value.bias                                          norm=1.0206e+00  mean|p|=1.0206e+00  shape=(1,)\n",
      "policy.weight                                       norm=1.7384e+00  mean|p|=7.2336e-02  shape=(3, 128)\n",
      "feature.0.bias                                      norm=2.0571e+00  mean|p|=1.6693e-01  shape=(128,)\n",
      "rnn.bias_ih_l0                                      norm=2.2206e+00  mean|p|=9.8104e-02  shape=(384,)\n",
      "rnn.bias_hh_l0                                      norm=2.2214e+00  mean|p|=9.6720e-02  shape=(384,)\n",
      "feature.0.weight                                    norm=8.8488e+00  mean|p|=8.5669e-02  shape=(128, 49)\n",
      "value.weight                                        norm=1.2478e+01  mean|p|=1.1013e+00  shape=(1, 128)\n",
      "rnn.weight_hh_l0                                    norm=1.4088e+01  mean|p|=5.2415e-02  shape=(384, 128)\n",
      "rnn.weight_ih_l0                                    norm=2.3759e+01  mean|p|=8.8614e-02  shape=(384, 128)\n",
      "\n",
      "[Param norms: largest first]\n",
      "rnn.weight_ih_l0                                    norm=2.3759e+01  mean|p|=8.8614e-02  shape=(384, 128)\n",
      "rnn.weight_hh_l0                                    norm=1.4088e+01  mean|p|=5.2415e-02  shape=(384, 128)\n",
      "value.weight                                        norm=1.2478e+01  mean|p|=1.1013e+00  shape=(1, 128)\n",
      "feature.0.weight                                    norm=8.8488e+00  mean|p|=8.5669e-02  shape=(128, 49)\n",
      "rnn.bias_hh_l0                                      norm=2.2214e+00  mean|p|=9.6720e-02  shape=(384,)\n",
      "rnn.bias_ih_l0                                      norm=2.2206e+00  mean|p|=9.8104e-02  shape=(384,)\n",
      "feature.0.bias                                      norm=2.0571e+00  mean|p|=1.6693e-01  shape=(128,)\n",
      "policy.weight                                       norm=1.7384e+00  mean|p|=7.2336e-02  shape=(3, 128)\n",
      "value.bias                                          norm=1.0206e+00  mean|p|=1.0206e+00  shape=(1,)\n",
      "policy.bias                                         norm=8.6680e-03  mean|p|=4.7875e-03  shape=(3,)\n"
     ]
    }
   ],
   "source": [
    "def print_param_norms(model, topk=10):\n",
    "    stats = []\n",
    "    with torch.no_grad():\n",
    "        for n, p in model.named_parameters():\n",
    "            try:\n",
    "                stats.append((n, p.norm().item(), p.abs().mean().item(), p.shape))\n",
    "            except Exception:\n",
    "                pass\n",
    "    stats.sort(key=lambda x: x[1])  # norm 기준 오름차순\n",
    "    print(\"\\n[Param norms: smallest first]\")\n",
    "    for n, nrm, mean_abs, shape in stats[:topk]:\n",
    "        print(f\"{n:50s}  norm={nrm:.4e}  mean|p|={mean_abs:.4e}  shape={tuple(shape)}\")\n",
    "    print(\"\\n[Param norms: largest first]\")\n",
    "    for n, nrm, mean_abs, shape in stats[-topk:][::-1]:\n",
    "        print(f\"{n:50s}  norm={nrm:.4e}  mean|p|={mean_abs:.4e}  shape={tuple(shape)}\")\n",
    "\n",
    "# 사용 예\n",
    "model.eval()\n",
    "print_param_norms(model)\n"
   ]
  },
  {
   "cell_type": "code",
   "execution_count": 12,
   "id": "17fbd610",
   "metadata": {},
   "outputs": [
    {
     "name": "stdout",
     "output_type": "stream",
     "text": [
      "\n",
      "=== Trial 1\n",
      "scale=0.1 : logits=[[ 1.2284455  1.0500544 -2.0451996]]  probs=[[0.53348035 0.44631773 0.02020191]]\n",
      "scale=1.0 : logits=[[ 1.2989835  1.1143489 -2.1623013]]  probs=[[0.536827   0.4463223  0.01685068]]\n",
      "scale=10.0: logits=[[ 1.3008178  1.1170018 -2.1660554]]  probs=[[0.5366813  0.44656652 0.01675223]]\n",
      "\n",
      "=== Trial 2\n",
      "scale=0.1 : logits=[[ 1.2733516  1.0920262 -2.1194031]]  probs=[[0.535395   0.44660723 0.01799781]]\n",
      "scale=1.0 : logits=[[ 1.3008146  1.1169993 -2.1660497]]  probs=[[0.53668106 0.44656664 0.01675237]]\n",
      "scale=10.0: logits=[[ 1.3008178  1.1170018 -2.1660554]]  probs=[[0.5366813  0.44656652 0.01675223]]\n",
      "\n",
      "=== Trial 3\n",
      "scale=0.1 : logits=[[ 1.273448   1.0930512 -2.1196496]]  probs=[[0.5351763  0.44683945 0.01798429]]\n",
      "scale=1.0 : logits=[[ 1.3008155  1.1170001 -2.1660511]]  probs=[[0.53668106 0.44656664 0.01675233]]\n",
      "scale=10.0: logits=[[ 1.3008178  1.1170018 -2.1660554]]  probs=[[0.5366813  0.44656652 0.01675223]]\n",
      "\n",
      "=== Trial 4\n",
      "scale=0.1 : logits=[[ 1.2496158  1.0719616 -2.0828183]]  probs=[[0.5339205  0.44701532 0.01906421]]\n",
      "scale=1.0 : logits=[[ 1.300391   1.1167326 -2.1653688]]  probs=[[0.53663343 0.44659713 0.01676939]]\n",
      "scale=10.0: logits=[[ 1.3008178  1.1170018 -2.1660554]]  probs=[[0.5366813  0.44656652 0.01675223]]\n",
      "\n",
      "=== Trial 5\n",
      "scale=0.1 : logits=[[ 1.1275318  0.9727258 -1.89171  ]]  probs=[[0.5248188  0.44955    0.02563122]]\n",
      "scale=1.0 : logits=[[ 1.1102368   0.94974965 -1.855284  ]]  probs=[[0.52541363 0.4475099  0.02707647]]\n",
      "scale=10.0: logits=[[ 1.3008392  1.1169977 -2.1660597]]  probs=[[0.5366876  0.44656044 0.01675199]]\n"
     ]
    }
   ],
   "source": [
    "def scale_sensitivity_test(model, device, state_dim=49, trials=5, scales=(0.1, 1.0, 10.0)):\n",
    "    model.eval()\n",
    "    with torch.no_grad():\n",
    "        for t in range(trials):\n",
    "            base = torch.randn(1, state_dim, device=device)\n",
    "            print(f\"\\n=== Trial {t+1}\")\n",
    "            for s in scales:\n",
    "                obs = base * s\n",
    "                # 매번 hidden 초기화(순환 상태 영향 제거)\n",
    "                hx = model.init_hidden(1, device) if hasattr(model, \"init_hidden\") else None\n",
    "                logits, value, _ = call_step_or_forward(model, obs, hx)\n",
    "                probs = F.softmax(logits, dim=-1)\n",
    "                print(f\"scale={s:<4}: logits={logits.detach().cpu().numpy()}  probs={probs.detach().cpu().numpy()}\")\n",
    "\n",
    "# 사용 예\n",
    "scale_sensitivity_test(model, device, state_dim=49)\n"
   ]
  },
  {
   "cell_type": "code",
   "execution_count": 13,
   "id": "9ce46e67",
   "metadata": {},
   "outputs": [
    {
     "name": "stdout",
     "output_type": "stream",
     "text": [
      "Len df[df['action']==0]: 505\n",
      "Len df[df['action']==1]: 351\n",
      "Len df[df['action']==2]: 144\n"
     ]
    }
   ],
   "source": [
    "df = pd.read_csv(\"a3c_global_env2_actions.csv\")\n",
    "print(f\"Len df[df['action']==0]: {len(df[df['action']==0])}\")\n",
    "print(f\"Len df[df['action']==1]: {len(df[df['action']==1])}\")\n",
    "print(f\"Len df[df['action']==2]: {len(df[df['action']==2])}\")\n"
   ]
  }
 ],
 "metadata": {
  "kernelspec": {
   "display_name": "torch-cert",
   "language": "python",
   "name": "python3"
  },
  "language_info": {
   "codemirror_mode": {
    "name": "ipython",
    "version": 3
   },
   "file_extension": ".py",
   "mimetype": "text/x-python",
   "name": "python",
   "nbconvert_exporter": "python",
   "pygments_lexer": "ipython3",
   "version": "3.11.13"
  }
 },
 "nbformat": 4,
 "nbformat_minor": 5
}
