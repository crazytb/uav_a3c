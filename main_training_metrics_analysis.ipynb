{
 "cells": [
  {
   "cell_type": "markdown",
   "id": "7628bbc4",
   "metadata": {},
   "source": [
    "# Training Metrics Analysis\n",
    "This notebook loads `runs/all_training_metrics.csv` (the master log you created while training) and plots trends for:\n",
    "- reward\n",
    "- total_loss\n",
    "- policy_loss\n",
    "- value_loss\n",
    "- entropy\n",
    "\n",
    "## How to use\n",
    "1. Set `CSV_PATH` if your file lives elsewhere.\n",
    "2. Run the **Setup** cell.\n",
    "3. Use the helper functions to plot per-run/per-label curves.\n",
    "4. Optionally set `rolling` window (e.g., 50) to smooth noisy curves.\n"
   ]
  },
  {
   "cell_type": "code",
   "execution_count": 16,
   "id": "2409456b",
   "metadata": {},
   "outputs": [
    {
     "name": "stdout",
     "output_type": "stream",
     "text": [
      "Rows: 130000\n",
      "Columns: ['run_id', 'label', 'episode', 'reward', 'policy_loss', 'value_loss', 'entropy', 'total_loss']\n",
      "\n",
      "Unique run_id: 2\n",
      "Unique labels: ['Global', 'Individual_0', 'Individual_1', 'Individual_2', 'Individual_3', 'Individual_4']\n",
      "\n",
      "Sample rows:\n"
     ]
    },
    {
     "data": {
      "application/vnd.microsoft.datawrangler.viewer.v0+json": {
       "columns": [
        {
         "name": "index",
         "rawType": "int64",
         "type": "integer"
        },
        {
         "name": "run_id",
         "rawType": "object",
         "type": "string"
        },
        {
         "name": "label",
         "rawType": "object",
         "type": "string"
        },
        {
         "name": "episode",
         "rawType": "int64",
         "type": "integer"
        },
        {
         "name": "reward",
         "rawType": "float64",
         "type": "float"
        },
        {
         "name": "policy_loss",
         "rawType": "float64",
         "type": "float"
        },
        {
         "name": "value_loss",
         "rawType": "float64",
         "type": "float"
        },
        {
         "name": "entropy",
         "rawType": "float64",
         "type": "float"
        },
        {
         "name": "total_loss",
         "rawType": "float64",
         "type": "float"
        }
       ],
       "ref": "417ebcba-f0c3-4c2e-9e8a-449bca947e95",
       "rows": [
        [
         "0",
         "a3c_20250815_152133",
         "Global",
         "1",
         "97.70999909943836",
         "-0.0305601274594664",
         "13029.175390625",
         "0.6800122261047363",
         "1302.886297607422"
        ],
        [
         "1",
         "a3c_20250815_152133",
         "Global",
         "2",
         "117.79999924026669",
         "0.0395115250721573",
         "17432.813403320313",
         "0.5950050234794617",
         "1743.320278930664"
        ],
        [
         "2",
         "a3c_20250815_152133",
         "Global",
         "3",
         "20.529999451265013",
         "-0.0042966127395629",
         "3818.204345703125",
         "0.6810462594032287",
         "381.8154556274414"
        ],
        [
         "3",
         "a3c_20250815_152133",
         "Global",
         "4",
         "101.77999955314",
         "-0.0265676538459956",
         "13453.23701171875",
         "0.669829249382019",
         "1345.2964477539062"
        ],
        [
         "4",
         "a3c_20250815_152133",
         "Global",
         "5",
         "150.55666578430615",
         "-0.024935195967555",
         "19232.396875",
         "0.6629475712776184",
         "1923.2141845703125"
        ]
       ],
       "shape": {
        "columns": 8,
        "rows": 5
       }
      },
      "text/html": [
       "<div>\n",
       "<style scoped>\n",
       "    .dataframe tbody tr th:only-of-type {\n",
       "        vertical-align: middle;\n",
       "    }\n",
       "\n",
       "    .dataframe tbody tr th {\n",
       "        vertical-align: top;\n",
       "    }\n",
       "\n",
       "    .dataframe thead th {\n",
       "        text-align: right;\n",
       "    }\n",
       "</style>\n",
       "<table border=\"1\" class=\"dataframe\">\n",
       "  <thead>\n",
       "    <tr style=\"text-align: right;\">\n",
       "      <th></th>\n",
       "      <th>run_id</th>\n",
       "      <th>label</th>\n",
       "      <th>episode</th>\n",
       "      <th>reward</th>\n",
       "      <th>policy_loss</th>\n",
       "      <th>value_loss</th>\n",
       "      <th>entropy</th>\n",
       "      <th>total_loss</th>\n",
       "    </tr>\n",
       "  </thead>\n",
       "  <tbody>\n",
       "    <tr>\n",
       "      <th>0</th>\n",
       "      <td>a3c_20250815_152133</td>\n",
       "      <td>Global</td>\n",
       "      <td>1</td>\n",
       "      <td>97.709999</td>\n",
       "      <td>-0.030560</td>\n",
       "      <td>13029.175391</td>\n",
       "      <td>0.680012</td>\n",
       "      <td>1302.886298</td>\n",
       "    </tr>\n",
       "    <tr>\n",
       "      <th>1</th>\n",
       "      <td>a3c_20250815_152133</td>\n",
       "      <td>Global</td>\n",
       "      <td>2</td>\n",
       "      <td>117.799999</td>\n",
       "      <td>0.039512</td>\n",
       "      <td>17432.813403</td>\n",
       "      <td>0.595005</td>\n",
       "      <td>1743.320279</td>\n",
       "    </tr>\n",
       "    <tr>\n",
       "      <th>2</th>\n",
       "      <td>a3c_20250815_152133</td>\n",
       "      <td>Global</td>\n",
       "      <td>3</td>\n",
       "      <td>20.529999</td>\n",
       "      <td>-0.004297</td>\n",
       "      <td>3818.204346</td>\n",
       "      <td>0.681046</td>\n",
       "      <td>381.815456</td>\n",
       "    </tr>\n",
       "    <tr>\n",
       "      <th>3</th>\n",
       "      <td>a3c_20250815_152133</td>\n",
       "      <td>Global</td>\n",
       "      <td>4</td>\n",
       "      <td>101.780000</td>\n",
       "      <td>-0.026568</td>\n",
       "      <td>13453.237012</td>\n",
       "      <td>0.669829</td>\n",
       "      <td>1345.296448</td>\n",
       "    </tr>\n",
       "    <tr>\n",
       "      <th>4</th>\n",
       "      <td>a3c_20250815_152133</td>\n",
       "      <td>Global</td>\n",
       "      <td>5</td>\n",
       "      <td>150.556666</td>\n",
       "      <td>-0.024935</td>\n",
       "      <td>19232.396875</td>\n",
       "      <td>0.662948</td>\n",
       "      <td>1923.214185</td>\n",
       "    </tr>\n",
       "  </tbody>\n",
       "</table>\n",
       "</div>"
      ],
      "text/plain": [
       "                run_id   label  episode      reward  policy_loss  \\\n",
       "0  a3c_20250815_152133  Global        1   97.709999    -0.030560   \n",
       "1  a3c_20250815_152133  Global        2  117.799999     0.039512   \n",
       "2  a3c_20250815_152133  Global        3   20.529999    -0.004297   \n",
       "3  a3c_20250815_152133  Global        4  101.780000    -0.026568   \n",
       "4  a3c_20250815_152133  Global        5  150.556666    -0.024935   \n",
       "\n",
       "     value_loss   entropy   total_loss  \n",
       "0  13029.175391  0.680012  1302.886298  \n",
       "1  17432.813403  0.595005  1743.320279  \n",
       "2   3818.204346  0.681046   381.815456  \n",
       "3  13453.237012  0.669829  1345.296448  \n",
       "4  19232.396875  0.662948  1923.214185  "
      ]
     },
     "metadata": {},
     "output_type": "display_data"
    }
   ],
   "source": [
    "# === Setup ===\n",
    "stamp = \"20250815_152133\"\n",
    "CSV_PATH = f\"runs/all_training_metrics_{stamp}.csv\"  # change this if needed\n",
    "\n",
    "import pandas as pd\n",
    "import matplotlib.pyplot as plt\n",
    "from pathlib import Path\n",
    "from drl_framework import params\n",
    "\n",
    "# Load\n",
    "df = pd.read_csv(CSV_PATH)\n",
    "\n",
    "# Basic sanity check / peek\n",
    "print(\"Rows:\", len(df))\n",
    "print(\"Columns:\", list(df.columns))\n",
    "print(\"\\nUnique run_id:\", df['run_id'].nunique())\n",
    "print(\"Unique labels:\", sorted(df['label'].unique()))\n",
    "print(\"\\nSample rows:\")\n",
    "display(df.head())\n",
    "\n",
    "# Sort for consistency\n",
    "df = df.sort_values(['run_id','label','episode']).reset_index(drop=True)\n"
   ]
  },
  {
   "cell_type": "code",
   "execution_count": 10,
   "id": "101f51b0",
   "metadata": {},
   "outputs": [],
   "source": [
    "# === Helpers ===\n",
    "def get_df(run_id=None, label=None):\n",
    "    sub = df.copy()\n",
    "    if run_id is not None:\n",
    "        sub = sub[sub['run_id'] == run_id]\n",
    "    if label is not None:\n",
    "        sub = sub[sub['label'] == label]\n",
    "    return sub.sort_values('episode')\n",
    "\n",
    "def plot_metric(run_id=None, label=None, metric='reward', rolling=None, save=False, outdir='plots'):\n",
    "    data = get_df(run_id, label)\n",
    "    if data.empty:\n",
    "        print(\"No data for the given filter.\")\n",
    "        return\n",
    "    y = data[metric]\n",
    "    if rolling is not None and rolling > 1:\n",
    "        y = y.rolling(rolling, min_periods=1).mean()\n",
    "\n",
    "    plt.figure()\n",
    "    plt.plot(data['episode'], y)\n",
    "    plt.xlabel('Episode')\n",
    "    plt.ylabel(metric.replace('_',' ').title())\n",
    "    title = f\"{metric.replace('_',' ').title()} vs Episode\"\n",
    "    if label: title += f\" - {label}\"\n",
    "    if run_id: title += f\" - {run_id}\"\n",
    "    plt.title(title)\n",
    "    plt.tight_layout()\n",
    "    if save:\n",
    "        Path(outdir).mkdir(parents=True, exist_ok=True)\n",
    "        fname = f\"{metric}_{(label or 'All')}_{(run_id or 'All')}.png\".replace('/','-')\n",
    "        plt.savefig(Path(outdir)/fname, dpi=180)\n",
    "    plt.show()\n",
    "\n",
    "def plot_compare_labels(run_id, metric='reward', rolling=None):\n",
    "    data = df[df['run_id'] == run_id]\n",
    "    if data.empty:\n",
    "        print(\"No data for this run_id.\")\n",
    "        return\n",
    "    labels = sorted(data['label'].unique())\n",
    "    plt.figure()\n",
    "    for lb in labels:\n",
    "        sub = data[data['label'] == lb].sort_values('episode')\n",
    "        series = sub[metric]\n",
    "        if rolling is not None and rolling > 1:\n",
    "            series = series.rolling(rolling, min_periods=1).mean()\n",
    "        plt.plot(sub['episode'], series, label=lb)\n",
    "    plt.xlabel('Episode')\n",
    "    plt.ylabel(metric.replace('_',' ').title())\n",
    "    plt.title(f\"{metric.replace('_',' ').title()} vs Episode - {run_id}\")\n",
    "    plt.legend()\n",
    "    plt.tight_layout()\n",
    "    plt.show()\n"
   ]
  },
  {
   "cell_type": "markdown",
   "id": "ee711a7c",
   "metadata": {},
   "source": [
    "## Quick start\n",
    "- The next cell picks the most recent `run_id` by default and label `\"Global\"`.\n",
    "- Adjust `RUN_ID` and `LABEL` as needed.\n"
   ]
  },
  {
   "cell_type": "code",
   "execution_count": null,
   "id": "414acf09",
   "metadata": {},
   "outputs": [],
   "source": [
    "# Pick defaults\n",
    "# RUN_ID = df['run_id'].iloc[-1] if len(df) else None\n",
    "RUN_ID = \"individual_20250814_024420\"\n",
    "LABEL = \"Global\"  # or e.g., \"Individual_0\"\n",
    "\n",
    "# Single-label plots (saved as PNG too)\n",
    "plot_metric(RUN_ID, LABEL, 'reward', rolling=50, save=True)\n",
    "plot_metric(RUN_ID, LABEL, 'total_loss', rolling=50, save=True)\n",
    "plot_metric(RUN_ID, LABEL, 'policy_loss', rolling=50, save=True)\n",
    "plot_metric(RUN_ID, LABEL, 'value_loss', rolling=50, save=True)\n",
    "plot_metric(RUN_ID, LABEL, 'entropy', rolling=50, save=True)\n",
    "\n",
    "# Compare all labels within a run (one chart per metric)\n",
    "plot_compare_labels(RUN_ID, 'reward', rolling=50)\n",
    "plot_compare_labels(RUN_ID, 'total_loss', rolling=50)\n",
    "plot_compare_labels(RUN_ID, 'policy_loss', rolling=50)\n",
    "plot_compare_labels(RUN_ID, 'value_loss', rolling=50)\n",
    "plot_compare_labels(RUN_ID, 'entropy', rolling=50)\n"
   ]
  },
  {
   "cell_type": "code",
   "execution_count": 18,
   "id": "1e26f57f",
   "metadata": {},
   "outputs": [
    {
     "data": {
      "text/plain": [
       "<matplotlib.legend.Legend at 0x1468e34f0>"
      ]
     },
     "execution_count": 18,
     "metadata": {},
     "output_type": "execute_result"
    },
    {
     "data": {
      "image/png": "[encoded data removed]",
      "text/plain": [
       "<Figure size 640x480 with 1 Axes>"
      ]
     },
     "metadata": {},
     "output_type": "display_data"
    }
   ],
   "source": [
    "plt.figure()\n",
    "rolling = 1000\n",
    "\n",
    "for label in sorted(df['label'].unique()):\n",
    "    if label == 'Global':\n",
    "        plt.plot(df[df['label']==label]['episode']*params.n_workers, df[df['label']==label]['reward'].rolling(rolling, min_periods=1).mean(), label=label)\n",
    "    else:\n",
    "        plt.plot(df[df['label']==label]['episode'], df[df['label']==label]['reward'].rolling(rolling, min_periods=1).mean(), label=label)\n",
    "\n",
    "plt.xlabel('Episode')\n",
    "plt.ylabel('Reward')\n",
    "plt.legend()"
   ]
  }
 ],
 "metadata": {
  "kernelspec": {
   "display_name": "torch-cert",
   "language": "python",
   "name": "python3"
  },
  "language_info": {
   "codemirror_mode": {
    "name": "ipython",
    "version": 3
   },
   "file_extension": ".py",
   "mimetype": "text/x-python",
   "name": "python",
   "nbconvert_exporter": "python",
   "pygments_lexer": "ipython3",
   "version": "3.10.12"
  }
 },
 "nbformat": 4,
 "nbformat_minor": 5
}
