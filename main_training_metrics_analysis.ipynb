{
 "cells": [
  {
   "cell_type": "markdown",
   "id": "7628bbc4",
   "metadata": {},
   "source": [
    "# Training Metrics Analysis\n",
    "This notebook loads `runs/all_training_metrics.csv` (the master log you created while training) and plots trends for:\n",
    "- reward\n",
    "- total_loss\n",
    "- policy_loss\n",
    "- value_loss\n",
    "- entropy\n",
    "\n",
    "## How to use\n",
    "1. Set `CSV_PATH` if your file lives elsewhere.\n",
    "2. Run the **Setup** cell.\n",
    "3. Use the helper functions to plot per-run/per-label curves.\n",
    "4. Optionally set `rolling` window (e.g., 50) to smooth noisy curves.\n"
   ]
  },
  {
   "cell_type": "code",
   "execution_count": 3,
   "id": "2409456b",
   "metadata": {},
   "outputs": [
    {
     "name": "stdout",
     "output_type": "stream",
     "text": [
      "Rows: 6000\n",
      "Columns: ['run_id', 'label', 'episode', 'reward', 'policy_loss', 'value_loss', 'entropy', 'total_loss']\n",
      "\n",
      "Unique run_id: 2\n",
      "Unique labels: ['Global', 'Individual_0', 'Individual_1', 'Individual_2', 'Individual_3', 'Individual_4']\n",
      "\n",
      "Sample rows:\n"
     ]
    },
    {
     "data": {
      "application/vnd.microsoft.datawrangler.viewer.v0+json": {
       "columns": [
        {
         "name": "index",
         "rawType": "int64",
         "type": "integer"
        },
        {
         "name": "run_id",
         "rawType": "object",
         "type": "string"
        },
        {
         "name": "label",
         "rawType": "object",
         "type": "string"
        },
        {
         "name": "episode",
         "rawType": "int64",
         "type": "integer"
        },
        {
         "name": "reward",
         "rawType": "float64",
         "type": "float"
        },
        {
         "name": "policy_loss",
         "rawType": "float64",
         "type": "float"
        },
        {
         "name": "value_loss",
         "rawType": "float64",
         "type": "float"
        },
        {
         "name": "entropy",
         "rawType": "float64",
         "type": "float"
        },
        {
         "name": "total_loss",
         "rawType": "float64",
         "type": "float"
        }
       ],
       "ref": "931dfeed-3bf7-44bb-bbf1-3b08fe8cf057",
       "rows": [
        [
         "0",
         "a3c_20250928_032108",
         "Global",
         "1",
         "1749.9",
         "0.0024401653558015",
         "11788.397595214845",
         "1.0740614175796508",
         "5894.1903625488285"
        ],
        [
         "1",
         "a3c_20250928_032108",
         "Global",
         "2",
         "1619.1",
         "-0.0076216730289161",
         "10067.1740814209",
         "1.0830828905105592",
         "5033.568241882324"
        ],
        [
         "2",
         "a3c_20250928_032108",
         "Global",
         "3",
         "1998.3",
         "-0.0005362559109926",
         "44868.88820800781",
         "1.017026138305664",
         "22434.43280029297"
        ],
        [
         "3",
         "a3c_20250928_032108",
         "Global",
         "4",
         "1922.0",
         "-0.037779315188527",
         "9226.953259277345",
         "0.9945494413375856",
         "4613.42896118164"
        ],
        [
         "4",
         "a3c_20250928_032108",
         "Global",
         "5",
         "1997.5",
         "0.0395761705935001",
         "28146.056225585937",
         "0.9592674136161804",
         "14073.057995605468"
        ]
       ],
       "shape": {
        "columns": 8,
        "rows": 5
       }
      },
      "text/html": [
       "<div>\n",
       "<style scoped>\n",
       "    .dataframe tbody tr th:only-of-type {\n",
       "        vertical-align: middle;\n",
       "    }\n",
       "\n",
       "    .dataframe tbody tr th {\n",
       "        vertical-align: top;\n",
       "    }\n",
       "\n",
       "    .dataframe thead th {\n",
       "        text-align: right;\n",
       "    }\n",
       "</style>\n",
       "<table border=\"1\" class=\"dataframe\">\n",
       "  <thead>\n",
       "    <tr style=\"text-align: right;\">\n",
       "      <th></th>\n",
       "      <th>run_id</th>\n",
       "      <th>label</th>\n",
       "      <th>episode</th>\n",
       "      <th>reward</th>\n",
       "      <th>policy_loss</th>\n",
       "      <th>value_loss</th>\n",
       "      <th>entropy</th>\n",
       "      <th>total_loss</th>\n",
       "    </tr>\n",
       "  </thead>\n",
       "  <tbody>\n",
       "    <tr>\n",
       "      <th>0</th>\n",
       "      <td>a3c_20250928_032108</td>\n",
       "      <td>Global</td>\n",
       "      <td>1</td>\n",
       "      <td>1749.9</td>\n",
       "      <td>0.002440</td>\n",
       "      <td>11788.397595</td>\n",
       "      <td>1.074061</td>\n",
       "      <td>5894.190363</td>\n",
       "    </tr>\n",
       "    <tr>\n",
       "      <th>1</th>\n",
       "      <td>a3c_20250928_032108</td>\n",
       "      <td>Global</td>\n",
       "      <td>2</td>\n",
       "      <td>1619.1</td>\n",
       "      <td>-0.007622</td>\n",
       "      <td>10067.174081</td>\n",
       "      <td>1.083083</td>\n",
       "      <td>5033.568242</td>\n",
       "    </tr>\n",
       "    <tr>\n",
       "      <th>2</th>\n",
       "      <td>a3c_20250928_032108</td>\n",
       "      <td>Global</td>\n",
       "      <td>3</td>\n",
       "      <td>1998.3</td>\n",
       "      <td>-0.000536</td>\n",
       "      <td>44868.888208</td>\n",
       "      <td>1.017026</td>\n",
       "      <td>22434.432800</td>\n",
       "    </tr>\n",
       "    <tr>\n",
       "      <th>3</th>\n",
       "      <td>a3c_20250928_032108</td>\n",
       "      <td>Global</td>\n",
       "      <td>4</td>\n",
       "      <td>1922.0</td>\n",
       "      <td>-0.037779</td>\n",
       "      <td>9226.953259</td>\n",
       "      <td>0.994549</td>\n",
       "      <td>4613.428961</td>\n",
       "    </tr>\n",
       "    <tr>\n",
       "      <th>4</th>\n",
       "      <td>a3c_20250928_032108</td>\n",
       "      <td>Global</td>\n",
       "      <td>5</td>\n",
       "      <td>1997.5</td>\n",
       "      <td>0.039576</td>\n",
       "      <td>28146.056226</td>\n",
       "      <td>0.959267</td>\n",
       "      <td>14073.057996</td>\n",
       "    </tr>\n",
       "  </tbody>\n",
       "</table>\n",
       "</div>"
      ],
      "text/plain": [
       "                run_id   label  episode  reward  policy_loss    value_loss  \\\n",
       "0  a3c_20250928_032108  Global        1  1749.9     0.002440  11788.397595   \n",
       "1  a3c_20250928_032108  Global        2  1619.1    -0.007622  10067.174081   \n",
       "2  a3c_20250928_032108  Global        3  1998.3    -0.000536  44868.888208   \n",
       "3  a3c_20250928_032108  Global        4  1922.0    -0.037779   9226.953259   \n",
       "4  a3c_20250928_032108  Global        5  1997.5     0.039576  28146.056226   \n",
       "\n",
       "    entropy    total_loss  \n",
       "0  1.074061   5894.190363  \n",
       "1  1.083083   5033.568242  \n",
       "2  1.017026  22434.432800  \n",
       "3  0.994549   4613.428961  \n",
       "4  0.959267  14073.057996  "
      ]
     },
     "metadata": {},
     "output_type": "display_data"
    }
   ],
   "source": [
    "# === Setup ===\n",
    "stamp = \"20250928_032108\"\n",
    "CSV_PATH = f\"runs/all_training_metrics_{stamp}.csv\"  # change this if needed\n",
    "\n",
    "import pandas as pd\n",
    "import matplotlib.pyplot as plt\n",
    "from pathlib import Path\n",
    "from drl_framework import params\n",
    "\n",
    "# Load\n",
    "df = pd.read_csv(CSV_PATH)\n",
    "\n",
    "# Basic sanity check / peek\n",
    "print(\"Rows:\", len(df))\n",
    "print(\"Columns:\", list(df.columns))\n",
    "print(\"\\nUnique run_id:\", df['run_id'].nunique())\n",
    "print(\"Unique labels:\", sorted(df['label'].unique()))\n",
    "print(\"\\nSample rows:\")\n",
    "display(df.head())\n",
    "\n",
    "# Sort for consistency\n",
    "df = df.sort_values(['run_id','label','episode']).reset_index(drop=True)\n"
   ]
  },
  {
   "cell_type": "code",
   "execution_count": 4,
   "id": "101f51b0",
   "metadata": {},
   "outputs": [],
   "source": [
    "# === Helpers ===\n",
    "def get_df(run_id=None, label=None):\n",
    "    sub = df.copy()\n",
    "    if run_id is not None:\n",
    "        sub = sub[sub['run_id'] == run_id]\n",
    "    if label is not None:\n",
    "        sub = sub[sub['label'] == label]\n",
    "    return sub.sort_values('episode')\n",
    "\n",
    "def plot_metric(run_id=None, label=None, metric='reward', rolling=None, save=False, outdir='plots'):\n",
    "    data = get_df(run_id, label)\n",
    "    if data.empty:\n",
    "        print(\"No data for the given filter.\")\n",
    "        return\n",
    "    y = data[metric]\n",
    "    if rolling is not None and rolling > 1:\n",
    "        y = y.rolling(rolling, min_periods=1).mean()\n",
    "\n",
    "    plt.figure()\n",
    "    plt.plot(data['episode'], y)\n",
    "    plt.xlabel('Episode')\n",
    "    plt.ylabel(metric.replace('_',' ').title())\n",
    "    title = f\"{metric.replace('_',' ').title()} vs Episode\"\n",
    "    if label: title += f\" - {label}\"\n",
    "    if run_id: title += f\" - {run_id}\"\n",
    "    plt.title(title)\n",
    "    plt.tight_layout()\n",
    "    if save:\n",
    "        Path(outdir).mkdir(parents=True, exist_ok=True)\n",
    "        fname = f\"{metric}_{(label or 'All')}_{(run_id or 'All')}.png\".replace('/','-')\n",
    "        plt.savefig(Path(outdir)/fname, dpi=180)\n",
    "    plt.show()\n",
    "\n",
    "def plot_compare_labels(run_id, metric='reward', rolling=None):\n",
    "    data = df[df['run_id'] == run_id]\n",
    "    if data.empty:\n",
    "        print(\"No data for this run_id.\")\n",
    "        return\n",
    "    labels = sorted(data['label'].unique())\n",
    "    plt.figure()\n",
    "    for lb in labels:\n",
    "        sub = data[data['label'] == lb].sort_values('episode')\n",
    "        series = sub[metric]\n",
    "        if rolling is not None and rolling > 1:\n",
    "            series = series.rolling(rolling, min_periods=1).mean()\n",
    "        plt.plot(sub['episode'], series, label=lb)\n",
    "    plt.xlabel('Episode')\n",
    "    plt.ylabel(metric.replace('_',' ').title())\n",
    "    plt.title(f\"{metric.replace('_',' ').title()} vs Episode - {run_id}\")\n",
    "    plt.legend()\n",
    "    plt.tight_layout()\n",
    "    plt.show()\n"
   ]
  },
  {
   "cell_type": "markdown",
   "id": "ee711a7c",
   "metadata": {},
   "source": [
    "## Quick start\n",
    "- The next cell picks the most recent `run_id` by default and label `\"Global\"`.\n",
    "- Adjust `RUN_ID` and `LABEL` as needed.\n"
   ]
  },
  {
   "cell_type": "code",
   "execution_count": 5,
   "id": "1e26f57f",
   "metadata": {},
   "outputs": [
    {
     "data": {
      "text/plain": [
       "<matplotlib.legend.Legend at 0x338a6c790>"
      ]
     },
     "execution_count": 5,
     "metadata": {},
     "output_type": "execute_result"
    },
    {
     "data": {
      "image/png": "[encoded data removed]",
      "text/plain": [
       "<Figure size 640x480 with 1 Axes>"
      ]
     },
     "metadata": {},
     "output_type": "display_data"
    }
   ],
   "source": [
    "plt.figure()\n",
    "rolling = 500\n",
    "\n",
    "for label in sorted(df['label'].unique()):\n",
    "    if label == 'Global':\n",
    "        plt.plot(df[df['label']==label]['episode'], df[df['label']==label]['reward'].rolling(rolling, min_periods=1).mean(), label=label)\n",
    "    else:\n",
    "        plt.plot(df[df['label']==label]['episode'], df[df['label']==label]['reward'].rolling(rolling, min_periods=1).mean(), label=label)\n",
    "\n",
    "plt.xlabel('Episode')\n",
    "plt.ylabel('Reward')\n",
    "plt.legend()"
   ]
  },
  {
   "cell_type": "markdown",
   "id": "9f004ac7",
   "metadata": {},
   "source": [
    "# Evaluation log analysis"
   ]
  },
  {
   "cell_type": "code",
   "execution_count": 6,
   "id": "a067ffb7",
   "metadata": {},
   "outputs": [
    {
     "name": "stdout",
     "output_type": "stream",
     "text": [
      "Env 0, A3C - Episodes: 10, Avg. Reward: 326.2\n",
      "Env 0, Worker 0 - Episodes: 10, Avg. Reward: 323.55\n",
      "Env 0, Worker 1 - Episodes: 10, Avg. Reward: 325.1\n",
      "Env 0, Worker 2 - Episodes: 10, Avg. Reward: 326.55\n",
      "Env 0, Worker 3 - Episodes: 10, Avg. Reward: 323.0\n",
      "Env 0, Worker 4 - Episodes: 10, Avg. Reward: 327.05\n",
      "Env 1, A3C - Episodes: 10, Avg. Reward: 322.1\n",
      "Env 1, Worker 0 - Episodes: 10, Avg. Reward: 329.3\n",
      "Env 1, Worker 1 - Episodes: 10, Avg. Reward: 325.1\n",
      "Env 1, Worker 2 - Episodes: 10, Avg. Reward: 324.85\n",
      "Env 1, Worker 3 - Episodes: 10, Avg. Reward: 323.9\n",
      "Env 1, Worker 4 - Episodes: 10, Avg. Reward: 325.9\n",
      "Env 2, A3C - Episodes: 10, Avg. Reward: 329.1\n",
      "Env 2, Worker 0 - Episodes: 10, Avg. Reward: 326.85\n",
      "Env 2, Worker 1 - Episodes: 10, Avg. Reward: 323.95\n",
      "Env 2, Worker 2 - Episodes: 10, Avg. Reward: 324.15\n",
      "Env 2, Worker 3 - Episodes: 10, Avg. Reward: 324.85\n",
      "Env 2, Worker 4 - Episodes: 10, Avg. Reward: 327.7\n",
      "Env 3, A3C - Episodes: 10, Avg. Reward: 327.35\n",
      "Env 3, Worker 0 - Episodes: 10, Avg. Reward: 328.5\n",
      "Env 3, Worker 1 - Episodes: 10, Avg. Reward: 324.8\n",
      "Env 3, Worker 2 - Episodes: 10, Avg. Reward: 328.5\n",
      "Env 3, Worker 3 - Episodes: 10, Avg. Reward: 325.2\n",
      "Env 3, Worker 4 - Episodes: 10, Avg. Reward: 327.15\n",
      "Env 4, A3C - Episodes: 10, Avg. Reward: 324.65\n",
      "Env 4, Worker 0 - Episodes: 10, Avg. Reward: 323.45\n",
      "Env 4, Worker 1 - Episodes: 10, Avg. Reward: 323.65\n",
      "Env 4, Worker 2 - Episodes: 10, Avg. Reward: 325.3\n",
      "Env 4, Worker 3 - Episodes: 10, Avg. Reward: 328.25\n",
      "Env 4, Worker 4 - Episodes: 10, Avg. Reward: 325.6\n"
     ]
    },
    {
     "data": {
      "text/plain": [
       "<Figure size 1200x800 with 0 Axes>"
      ]
     },
     "metadata": {},
     "output_type": "display_data"
    }
   ],
   "source": [
    "import itertools\n",
    "import pandas as pd\n",
    "import matplotlib.pyplot as plt\n",
    "\n",
    "worker_ids = range(5)\n",
    "env_ids = range(5)\n",
    "\n",
    "# Make a blank figure\n",
    "plt.figure(figsize=(12, 8))\n",
    "\n",
    "# Read A3C CSV files\n",
    "for env in env_ids:\n",
    "    df = pd.read_csv(f\"a3c_global_env{env}_actions.csv\")\n",
    "    # Make a list that contains the sum of rewards for each episode\n",
    "    episode_rewards = df.groupby(\"episode\")[\"reward\"].sum().tolist()\n",
    "    print(f\"Env {env}, A3C - Episodes: {len(episode_rewards)}, Avg. Reward: {sum(episode_rewards)/len(episode_rewards)}\")\n",
    "\n",
    "    for worker_id in worker_ids:\n",
    "        df = pd.read_csv(f\"individual_w{worker_id}_env{env}_actions.csv\")\n",
    "        # Make a list that contains the sum of rewards for each episode\n",
    "        episode_rewards = df.groupby(\"episode\")[\"reward\"].sum().tolist()\n",
    "        print(f\"Env {env}, Worker {worker_id} - Episodes: {len(episode_rewards)}, Avg. Reward: {sum(episode_rewards)/len(episode_rewards)}\")\n",
    "\n",
    "# for worker_id, env_id in itertools.product(worker_ids, env_ids):\n",
    "#     df = pd.read_csv(f\"individual_w{worker_id}_env{env_id}_actions.csv\")\n",
    "#     # Make a list that contains the sum of rewards for each episode\n",
    "#     episode_rewards = df.groupby(\"episode\")[\"reward\"].sum().tolist()\n",
    "#     print(f\"Worker {worker_id}, Env {env_id} - Episodes: {len(episode_rewards)}, Avg. Reward: {sum(episode_rewards)/len(episode_rewards)}\")\n"
   ]
  },
  {
   "cell_type": "code",
   "execution_count": null,
   "id": "f1e6a51b",
   "metadata": {},
   "outputs": [],
   "source": []
  },
  {
   "cell_type": "code",
   "execution_count": 7,
   "id": "79ebf8c7",
   "metadata": {},
   "outputs": [
    {
     "name": "stdout",
     "output_type": "stream",
     "text": [
      "saved: []\n"
     ]
    }
   ],
   "source": [
    "import os, glob, re, pandas as pd, numpy as np, matplotlib.pyplot as plt\n",
    "\n",
    "# 파일 패턴: a3c_global_env{0~4}_actions.csv, individual_w{0~4}_env{0~4}_actions.csv\n",
    "pattern = re.compile(r\"/mnt/data/(a3c_global|individual_w\\d+)_env(\\d+)_actions\\.csv$\")\n",
    "\n",
    "# 파일 수집\n",
    "files = sorted(f for f in glob.glob(\"/mnt/data/*_actions.csv\") if pattern.search(f))\n",
    "by_env = {}\n",
    "for f in files:\n",
    "    m = pattern.search(f)\n",
    "    agent = m.group(1)         # 'a3c_global' or 'individual_w{k}'\n",
    "    env = int(m.group(2))      # 0..4\n",
    "    by_env.setdefault(env, {})[agent] = f\n",
    "\n",
    "def episode_sums(csv_path):\n",
    "    df = pd.read_csv(csv_path)\n",
    "    # episode별 reward 합계\n",
    "    ep = df.groupby(\"episode\", as_index=False)[\"reward\"].sum().sort_values(\"episode\").reset_index(drop=True)\n",
    "    return ep\n",
    "\n",
    "out_paths = []\n",
    "for env, agents in sorted(by_env.items()):\n",
    "    plt.figure(figsize=(8, 4.5))\n",
    "    any_plotted = False\n",
    "    # a3c + w0~w4 순서로 그리기 (없는 파일은 건너뜀)\n",
    "    for agent in [\"a3c_global\", \"individual_w0\", \"individual_w1\", \"individual_w2\", \"individual_w3\", \"individual_w4\"]:\n",
    "        if agent in agents:\n",
    "            ep = episode_sums(agents[agent])\n",
    "            plt.plot(ep[\"episode\"].values, ep[\"reward\"].values, label=agent.replace(\"_\",\" \"))\n",
    "            any_plotted = True\n",
    "    if not any_plotted:\n",
    "        plt.close()\n",
    "        continue\n",
    "    plt.title(f\"Episode Reward (sum) per Agent — env{env}\")\n",
    "    plt.xlabel(\"Episode\")\n",
    "    plt.ylabel(\"Sum of reward in episode\")\n",
    "    plt.legend()\n",
    "    plt.tight_layout()\n",
    "    out = f\"/mnt/data/episode_rewards_env{env}.png\"\n",
    "    plt.savefig(out, dpi=150, bbox_inches=\"tight\")\n",
    "    out_paths.append(out)\n",
    "    plt.show()\n",
    "\n",
    "print(\"saved:\", out_paths)\n"
   ]
  },
  {
   "cell_type": "code",
   "execution_count": 8,
   "id": "720ea956",
   "metadata": {},
   "outputs": [
    {
     "data": {
      "text/plain": [
       "<All keys matched successfully>"
      ]
     },
     "execution_count": 8,
     "metadata": {},
     "output_type": "execute_result"
    }
   ],
   "source": [
    "from drl_framework.networks import RecurrentActorCritic\n",
    "from drl_framework.custom_env import make_env\n",
    "from drl_framework.utils import flatten_dict_values\n",
    "import drl_framework.params as params\n",
    "import torch\n",
    "import torch.nn.functional as F\n",
    "\n",
    "device = params.device\n",
    "ENV_PARAMS = params.ENV_PARAMS\n",
    "REWARD_PARAMS = params.REWARD_PARAMS\n",
    "hidden_dim = params.hidden_dim\n",
    "n_workers = params.n_workers\n",
    "\n",
    "# 임시 env로 상태/행동 차원 파악\n",
    "temp_env_fn = make_env(**ENV_PARAMS)\n",
    "temp_env = temp_env_fn()\n",
    "sample_obs, _ = temp_env.reset()\n",
    "state_dim = len(flatten_dict_values(sample_obs))\n",
    "action_dim = temp_env.action_space.n\n",
    "temp_env.close()\n",
    "\n",
    "model_path = f\"runs/a3c_{stamp}/models/global_final.pth\"\n",
    "model = RecurrentActorCritic(state_dim, action_dim, hidden_dim).to(device)\n",
    "state_dict = torch.load(model_path, map_location=device)\n",
    "model.load_state_dict(state_dict)"
   ]
  },
  {
   "cell_type": "code",
   "execution_count": 9,
   "id": "9e60fcb2",
   "metadata": {},
   "outputs": [
    {
     "ename": "RuntimeError",
     "evalue": "mat1 and mat2 shapes cannot be multiplied (1x49 and 48x128)",
     "output_type": "error",
     "traceback": [
      "\u001b[0;31m---------------------------------------------------------------------------\u001b[0m",
      "\u001b[0;31mRuntimeError\u001b[0m                              Traceback (most recent call last)",
      "Cell \u001b[0;32mIn[9], line 10\u001b[0m\n\u001b[1;32m      7\u001b[0m obs_tensor \u001b[38;5;241m=\u001b[39m torch\u001b[38;5;241m.\u001b[39mrandn(\u001b[38;5;241m1\u001b[39m, \u001b[38;5;241m49\u001b[39m, dtype\u001b[38;5;241m=\u001b[39mtorch\u001b[38;5;241m.\u001b[39mfloat32, device\u001b[38;5;241m=\u001b[39mdevice)\n\u001b[1;32m      8\u001b[0m hx \u001b[38;5;241m=\u001b[39m model\u001b[38;5;241m.\u001b[39minit_hidden(batch_size\u001b[38;5;241m=\u001b[39m\u001b[38;5;241m1\u001b[39m, device\u001b[38;5;241m=\u001b[39mdevice) \n\u001b[0;32m---> 10\u001b[0m logits, value, hx \u001b[38;5;241m=\u001b[39m \u001b[43mmodel\u001b[49m\u001b[38;5;241;43m.\u001b[39;49m\u001b[43mstep\u001b[49m\u001b[43m(\u001b[49m\u001b[43mobs_tensor\u001b[49m\u001b[43m,\u001b[49m\u001b[43m \u001b[49m\u001b[43mhx\u001b[49m\u001b[43m)\u001b[49m\n\u001b[1;32m     11\u001b[0m \u001b[38;5;28mprint\u001b[39m(\u001b[38;5;124mf\u001b[39m\u001b[38;5;124m\"\u001b[39m\u001b[38;5;130;01m\\n\u001b[39;00m\u001b[38;5;124m=== Test \u001b[39m\u001b[38;5;132;01m{\u001b[39;00mi\u001b[38;5;241m+\u001b[39m\u001b[38;5;241m1\u001b[39m\u001b[38;5;132;01m}\u001b[39;00m\u001b[38;5;124m ===\u001b[39m\u001b[38;5;124m\"\u001b[39m)\n\u001b[1;32m     12\u001b[0m \u001b[38;5;28mprint\u001b[39m(\u001b[38;5;124m\"\u001b[39m\u001b[38;5;124mSample action logits:\u001b[39m\u001b[38;5;124m\"\u001b[39m, logits\u001b[38;5;241m.\u001b[39mcpu()\u001b[38;5;241m.\u001b[39mnumpy())\n",
      "File \u001b[0;32m~/Code/uav_a3c/drl_framework/networks.py:93\u001b[0m, in \u001b[0;36mRecurrentActorCritic.step\u001b[0;34m(self, x, hx, action_mask)\u001b[0m\n\u001b[1;32m     90\u001b[0m     \u001b[38;5;28;01massert\u001b[39;00m x\u001b[38;5;241m.\u001b[39msize(\u001b[38;5;241m1\u001b[39m) \u001b[38;5;241m==\u001b[39m \u001b[38;5;241m1\u001b[39m, \u001b[38;5;124m\"\u001b[39m\u001b[38;5;124mstep()에는 T=1만 허용합니다.\u001b[39m\u001b[38;5;124m\"\u001b[39m\n\u001b[1;32m     91\u001b[0m     x \u001b[38;5;241m=\u001b[39m x[:, \u001b[38;5;241m0\u001b[39m, :]\n\u001b[0;32m---> 93\u001b[0m z \u001b[38;5;241m=\u001b[39m \u001b[38;5;28;43mself\u001b[39;49m\u001b[38;5;241;43m.\u001b[39;49m\u001b[43mfeature\u001b[49m\u001b[43m(\u001b[49m\u001b[43mx\u001b[49m\u001b[43m)\u001b[49m          \u001b[38;5;66;03m# (B,H)\u001b[39;00m\n\u001b[1;32m     94\u001b[0m z, next_hx \u001b[38;5;241m=\u001b[39m \u001b[38;5;28mself\u001b[39m\u001b[38;5;241m.\u001b[39mrnn(z\u001b[38;5;241m.\u001b[39munsqueeze(\u001b[38;5;241m1\u001b[39m), hx)  \u001b[38;5;66;03m# (B,1,H), (L,B,H)\u001b[39;00m\n\u001b[1;32m     95\u001b[0m z \u001b[38;5;241m=\u001b[39m z[:, \u001b[38;5;241m0\u001b[39m, :]               \u001b[38;5;66;03m# (B,H)\u001b[39;00m\n",
      "File \u001b[0;32m~/miniconda/envs/torch-cert/lib/python3.10/site-packages/torch/nn/modules/module.py:1511\u001b[0m, in \u001b[0;36mModule._wrapped_call_impl\u001b[0;34m(self, *args, **kwargs)\u001b[0m\n\u001b[1;32m   1509\u001b[0m     \u001b[38;5;28;01mreturn\u001b[39;00m \u001b[38;5;28mself\u001b[39m\u001b[38;5;241m.\u001b[39m_compiled_call_impl(\u001b[38;5;241m*\u001b[39margs, \u001b[38;5;241m*\u001b[39m\u001b[38;5;241m*\u001b[39mkwargs)  \u001b[38;5;66;03m# type: ignore[misc]\u001b[39;00m\n\u001b[1;32m   1510\u001b[0m \u001b[38;5;28;01melse\u001b[39;00m:\n\u001b[0;32m-> 1511\u001b[0m     \u001b[38;5;28;01mreturn\u001b[39;00m \u001b[38;5;28;43mself\u001b[39;49m\u001b[38;5;241;43m.\u001b[39;49m\u001b[43m_call_impl\u001b[49m\u001b[43m(\u001b[49m\u001b[38;5;241;43m*\u001b[39;49m\u001b[43margs\u001b[49m\u001b[43m,\u001b[49m\u001b[43m \u001b[49m\u001b[38;5;241;43m*\u001b[39;49m\u001b[38;5;241;43m*\u001b[39;49m\u001b[43mkwargs\u001b[49m\u001b[43m)\u001b[49m\n",
      "File \u001b[0;32m~/miniconda/envs/torch-cert/lib/python3.10/site-packages/torch/nn/modules/module.py:1520\u001b[0m, in \u001b[0;36mModule._call_impl\u001b[0;34m(self, *args, **kwargs)\u001b[0m\n\u001b[1;32m   1515\u001b[0m \u001b[38;5;66;03m# If we don't have any hooks, we want to skip the rest of the logic in\u001b[39;00m\n\u001b[1;32m   1516\u001b[0m \u001b[38;5;66;03m# this function, and just call forward.\u001b[39;00m\n\u001b[1;32m   1517\u001b[0m \u001b[38;5;28;01mif\u001b[39;00m \u001b[38;5;129;01mnot\u001b[39;00m (\u001b[38;5;28mself\u001b[39m\u001b[38;5;241m.\u001b[39m_backward_hooks \u001b[38;5;129;01mor\u001b[39;00m \u001b[38;5;28mself\u001b[39m\u001b[38;5;241m.\u001b[39m_backward_pre_hooks \u001b[38;5;129;01mor\u001b[39;00m \u001b[38;5;28mself\u001b[39m\u001b[38;5;241m.\u001b[39m_forward_hooks \u001b[38;5;129;01mor\u001b[39;00m \u001b[38;5;28mself\u001b[39m\u001b[38;5;241m.\u001b[39m_forward_pre_hooks\n\u001b[1;32m   1518\u001b[0m         \u001b[38;5;129;01mor\u001b[39;00m _global_backward_pre_hooks \u001b[38;5;129;01mor\u001b[39;00m _global_backward_hooks\n\u001b[1;32m   1519\u001b[0m         \u001b[38;5;129;01mor\u001b[39;00m _global_forward_hooks \u001b[38;5;129;01mor\u001b[39;00m _global_forward_pre_hooks):\n\u001b[0;32m-> 1520\u001b[0m     \u001b[38;5;28;01mreturn\u001b[39;00m \u001b[43mforward_call\u001b[49m\u001b[43m(\u001b[49m\u001b[38;5;241;43m*\u001b[39;49m\u001b[43margs\u001b[49m\u001b[43m,\u001b[49m\u001b[43m \u001b[49m\u001b[38;5;241;43m*\u001b[39;49m\u001b[38;5;241;43m*\u001b[39;49m\u001b[43mkwargs\u001b[49m\u001b[43m)\u001b[49m\n\u001b[1;32m   1522\u001b[0m \u001b[38;5;28;01mtry\u001b[39;00m:\n\u001b[1;32m   1523\u001b[0m     result \u001b[38;5;241m=\u001b[39m \u001b[38;5;28;01mNone\u001b[39;00m\n",
      "File \u001b[0;32m~/miniconda/envs/torch-cert/lib/python3.10/site-packages/torch/nn/modules/container.py:217\u001b[0m, in \u001b[0;36mSequential.forward\u001b[0;34m(self, input)\u001b[0m\n\u001b[1;32m    215\u001b[0m \u001b[38;5;28;01mdef\u001b[39;00m\u001b[38;5;250m \u001b[39m\u001b[38;5;21mforward\u001b[39m(\u001b[38;5;28mself\u001b[39m, \u001b[38;5;28minput\u001b[39m):\n\u001b[1;32m    216\u001b[0m     \u001b[38;5;28;01mfor\u001b[39;00m module \u001b[38;5;129;01min\u001b[39;00m \u001b[38;5;28mself\u001b[39m:\n\u001b[0;32m--> 217\u001b[0m         \u001b[38;5;28minput\u001b[39m \u001b[38;5;241m=\u001b[39m \u001b[43mmodule\u001b[49m\u001b[43m(\u001b[49m\u001b[38;5;28;43minput\u001b[39;49m\u001b[43m)\u001b[49m\n\u001b[1;32m    218\u001b[0m     \u001b[38;5;28;01mreturn\u001b[39;00m \u001b[38;5;28minput\u001b[39m\n",
      "File \u001b[0;32m~/miniconda/envs/torch-cert/lib/python3.10/site-packages/torch/nn/modules/module.py:1511\u001b[0m, in \u001b[0;36mModule._wrapped_call_impl\u001b[0;34m(self, *args, **kwargs)\u001b[0m\n\u001b[1;32m   1509\u001b[0m     \u001b[38;5;28;01mreturn\u001b[39;00m \u001b[38;5;28mself\u001b[39m\u001b[38;5;241m.\u001b[39m_compiled_call_impl(\u001b[38;5;241m*\u001b[39margs, \u001b[38;5;241m*\u001b[39m\u001b[38;5;241m*\u001b[39mkwargs)  \u001b[38;5;66;03m# type: ignore[misc]\u001b[39;00m\n\u001b[1;32m   1510\u001b[0m \u001b[38;5;28;01melse\u001b[39;00m:\n\u001b[0;32m-> 1511\u001b[0m     \u001b[38;5;28;01mreturn\u001b[39;00m \u001b[38;5;28;43mself\u001b[39;49m\u001b[38;5;241;43m.\u001b[39;49m\u001b[43m_call_impl\u001b[49m\u001b[43m(\u001b[49m\u001b[38;5;241;43m*\u001b[39;49m\u001b[43margs\u001b[49m\u001b[43m,\u001b[49m\u001b[43m \u001b[49m\u001b[38;5;241;43m*\u001b[39;49m\u001b[38;5;241;43m*\u001b[39;49m\u001b[43mkwargs\u001b[49m\u001b[43m)\u001b[49m\n",
      "File \u001b[0;32m~/miniconda/envs/torch-cert/lib/python3.10/site-packages/torch/nn/modules/module.py:1520\u001b[0m, in \u001b[0;36mModule._call_impl\u001b[0;34m(self, *args, **kwargs)\u001b[0m\n\u001b[1;32m   1515\u001b[0m \u001b[38;5;66;03m# If we don't have any hooks, we want to skip the rest of the logic in\u001b[39;00m\n\u001b[1;32m   1516\u001b[0m \u001b[38;5;66;03m# this function, and just call forward.\u001b[39;00m\n\u001b[1;32m   1517\u001b[0m \u001b[38;5;28;01mif\u001b[39;00m \u001b[38;5;129;01mnot\u001b[39;00m (\u001b[38;5;28mself\u001b[39m\u001b[38;5;241m.\u001b[39m_backward_hooks \u001b[38;5;129;01mor\u001b[39;00m \u001b[38;5;28mself\u001b[39m\u001b[38;5;241m.\u001b[39m_backward_pre_hooks \u001b[38;5;129;01mor\u001b[39;00m \u001b[38;5;28mself\u001b[39m\u001b[38;5;241m.\u001b[39m_forward_hooks \u001b[38;5;129;01mor\u001b[39;00m \u001b[38;5;28mself\u001b[39m\u001b[38;5;241m.\u001b[39m_forward_pre_hooks\n\u001b[1;32m   1518\u001b[0m         \u001b[38;5;129;01mor\u001b[39;00m _global_backward_pre_hooks \u001b[38;5;129;01mor\u001b[39;00m _global_backward_hooks\n\u001b[1;32m   1519\u001b[0m         \u001b[38;5;129;01mor\u001b[39;00m _global_forward_hooks \u001b[38;5;129;01mor\u001b[39;00m _global_forward_pre_hooks):\n\u001b[0;32m-> 1520\u001b[0m     \u001b[38;5;28;01mreturn\u001b[39;00m \u001b[43mforward_call\u001b[49m\u001b[43m(\u001b[49m\u001b[38;5;241;43m*\u001b[39;49m\u001b[43margs\u001b[49m\u001b[43m,\u001b[49m\u001b[43m \u001b[49m\u001b[38;5;241;43m*\u001b[39;49m\u001b[38;5;241;43m*\u001b[39;49m\u001b[43mkwargs\u001b[49m\u001b[43m)\u001b[49m\n\u001b[1;32m   1522\u001b[0m \u001b[38;5;28;01mtry\u001b[39;00m:\n\u001b[1;32m   1523\u001b[0m     result \u001b[38;5;241m=\u001b[39m \u001b[38;5;28;01mNone\u001b[39;00m\n",
      "File \u001b[0;32m~/miniconda/envs/torch-cert/lib/python3.10/site-packages/torch/nn/modules/linear.py:116\u001b[0m, in \u001b[0;36mLinear.forward\u001b[0;34m(self, input)\u001b[0m\n\u001b[1;32m    115\u001b[0m \u001b[38;5;28;01mdef\u001b[39;00m\u001b[38;5;250m \u001b[39m\u001b[38;5;21mforward\u001b[39m(\u001b[38;5;28mself\u001b[39m, \u001b[38;5;28minput\u001b[39m: Tensor) \u001b[38;5;241m-\u001b[39m\u001b[38;5;241m>\u001b[39m Tensor:\n\u001b[0;32m--> 116\u001b[0m     \u001b[38;5;28;01mreturn\u001b[39;00m \u001b[43mF\u001b[49m\u001b[38;5;241;43m.\u001b[39;49m\u001b[43mlinear\u001b[49m\u001b[43m(\u001b[49m\u001b[38;5;28;43minput\u001b[39;49m\u001b[43m,\u001b[49m\u001b[43m \u001b[49m\u001b[38;5;28;43mself\u001b[39;49m\u001b[38;5;241;43m.\u001b[39;49m\u001b[43mweight\u001b[49m\u001b[43m,\u001b[49m\u001b[43m \u001b[49m\u001b[38;5;28;43mself\u001b[39;49m\u001b[38;5;241;43m.\u001b[39;49m\u001b[43mbias\u001b[49m\u001b[43m)\u001b[49m\n",
      "\u001b[0;31mRuntimeError\u001b[0m: mat1 and mat2 shapes cannot be multiplied (1x49 and 48x128)"
     ]
    }
   ],
   "source": [
    "model.eval()\n",
    "hx = model.init_hidden(batch_size=1, device=device)\n",
    "\n",
    "with torch.no_grad():\n",
    "    for i in range(10):  # 10번 반복 테스트\n",
    "        # (1, 49) 크기의 랜덤 텐서 생성\n",
    "        obs_tensor = torch.randn(1, 49, dtype=torch.float32, device=device)\n",
    "        hx = model.init_hidden(batch_size=1, device=device) \n",
    "\n",
    "        logits, value, hx = model.step(obs_tensor, hx)\n",
    "        print(f\"\\n=== Test {i+1} ===\")\n",
    "        print(\"Sample action logits:\", logits.cpu().numpy())\n",
    "        print(\"Prob distribution:\", F.softmax(logits, dim=-1).cpu().numpy())"
   ]
  },
  {
   "cell_type": "code",
   "execution_count": null,
   "id": "4f77076c",
   "metadata": {},
   "outputs": [],
   "source": [
    "def call_step_or_forward(model, obs, hx=None):\n",
    "    \"\"\"model.step이 있으면 (logits,value,hx)로 가정하고 호출,\n",
    "       없으면 model(obs) 호출 (logits,value) 또는 logits 만 반환.\"\"\"\n",
    "    if hasattr(model, \"step\"):\n",
    "        if hx is None and hasattr(model, \"init_hidden\"):\n",
    "            hx = model.init_hidden(batch_size=obs.shape[0], device=obs.device)\n",
    "        return model.step(obs, hx)\n",
    "    else:\n",
    "        out = model(obs)\n",
    "        # 반환 형태 정리\n",
    "        if isinstance(out, tuple):\n",
    "            if len(out) == 3:   # (logits, value, hx)\n",
    "                return out\n",
    "            elif len(out) == 2: # (logits, value)\n",
    "                logits, value = out\n",
    "                return logits, value, None\n",
    "        # logits만 있는 경우\n",
    "        return out, None, None"
   ]
  },
  {
   "cell_type": "code",
   "execution_count": null,
   "id": "91350729",
   "metadata": {},
   "outputs": [
    {
     "name": "stdout",
     "output_type": "stream",
     "text": [
      "\n",
      "[Param norms: smallest first]\n",
      "policy.bias                                         norm=8.6680e-03  mean|p|=4.7875e-03  shape=(3,)\n",
      "value.bias                                          norm=1.0206e+00  mean|p|=1.0206e+00  shape=(1,)\n",
      "policy.weight                                       norm=1.7384e+00  mean|p|=7.2336e-02  shape=(3, 128)\n",
      "feature.0.bias                                      norm=2.0571e+00  mean|p|=1.6693e-01  shape=(128,)\n",
      "rnn.bias_ih_l0                                      norm=2.2206e+00  mean|p|=9.8104e-02  shape=(384,)\n",
      "rnn.bias_hh_l0                                      norm=2.2214e+00  mean|p|=9.6720e-02  shape=(384,)\n",
      "feature.0.weight                                    norm=8.8488e+00  mean|p|=8.5669e-02  shape=(128, 49)\n",
      "value.weight                                        norm=1.2478e+01  mean|p|=1.1013e+00  shape=(1, 128)\n",
      "rnn.weight_hh_l0                                    norm=1.4088e+01  mean|p|=5.2415e-02  shape=(384, 128)\n",
      "rnn.weight_ih_l0                                    norm=2.3759e+01  mean|p|=8.8614e-02  shape=(384, 128)\n",
      "\n",
      "[Param norms: largest first]\n",
      "rnn.weight_ih_l0                                    norm=2.3759e+01  mean|p|=8.8614e-02  shape=(384, 128)\n",
      "rnn.weight_hh_l0                                    norm=1.4088e+01  mean|p|=5.2415e-02  shape=(384, 128)\n",
      "value.weight                                        norm=1.2478e+01  mean|p|=1.1013e+00  shape=(1, 128)\n",
      "feature.0.weight                                    norm=8.8488e+00  mean|p|=8.5669e-02  shape=(128, 49)\n",
      "rnn.bias_hh_l0                                      norm=2.2214e+00  mean|p|=9.6720e-02  shape=(384,)\n",
      "rnn.bias_ih_l0                                      norm=2.2206e+00  mean|p|=9.8104e-02  shape=(384,)\n",
      "feature.0.bias                                      norm=2.0571e+00  mean|p|=1.6693e-01  shape=(128,)\n",
      "policy.weight                                       norm=1.7384e+00  mean|p|=7.2336e-02  shape=(3, 128)\n",
      "value.bias                                          norm=1.0206e+00  mean|p|=1.0206e+00  shape=(1,)\n",
      "policy.bias                                         norm=8.6680e-03  mean|p|=4.7875e-03  shape=(3,)\n"
     ]
    }
   ],
   "source": [
    "def print_param_norms(model, topk=10):\n",
    "    stats = []\n",
    "    with torch.no_grad():\n",
    "        for n, p in model.named_parameters():\n",
    "            try:\n",
    "                stats.append((n, p.norm().item(), p.abs().mean().item(), p.shape))\n",
    "            except Exception:\n",
    "                pass\n",
    "    stats.sort(key=lambda x: x[1])  # norm 기준 오름차순\n",
    "    print(\"\\n[Param norms: smallest first]\")\n",
    "    for n, nrm, mean_abs, shape in stats[:topk]:\n",
    "        print(f\"{n:50s}  norm={nrm:.4e}  mean|p|={mean_abs:.4e}  shape={tuple(shape)}\")\n",
    "    print(\"\\n[Param norms: largest first]\")\n",
    "    for n, nrm, mean_abs, shape in stats[-topk:][::-1]:\n",
    "        print(f\"{n:50s}  norm={nrm:.4e}  mean|p|={mean_abs:.4e}  shape={tuple(shape)}\")\n",
    "\n",
    "# 사용 예\n",
    "model.eval()\n",
    "print_param_norms(model)\n"
   ]
  },
  {
   "cell_type": "code",
   "execution_count": null,
   "id": "17fbd610",
   "metadata": {},
   "outputs": [
    {
     "name": "stdout",
     "output_type": "stream",
     "text": [
      "\n",
      "=== Trial 1\n",
      "scale=0.1 : logits=[[ 1.2284455  1.0500544 -2.0451996]]  probs=[[0.53348035 0.44631773 0.02020191]]\n",
      "scale=1.0 : logits=[[ 1.2989835  1.1143489 -2.1623013]]  probs=[[0.536827   0.4463223  0.01685068]]\n",
      "scale=10.0: logits=[[ 1.3008178  1.1170018 -2.1660554]]  probs=[[0.5366813  0.44656652 0.01675223]]\n",
      "\n",
      "=== Trial 2\n",
      "scale=0.1 : logits=[[ 1.2733516  1.0920262 -2.1194031]]  probs=[[0.535395   0.44660723 0.01799781]]\n",
      "scale=1.0 : logits=[[ 1.3008146  1.1169993 -2.1660497]]  probs=[[0.53668106 0.44656664 0.01675237]]\n",
      "scale=10.0: logits=[[ 1.3008178  1.1170018 -2.1660554]]  probs=[[0.5366813  0.44656652 0.01675223]]\n",
      "\n",
      "=== Trial 3\n",
      "scale=0.1 : logits=[[ 1.273448   1.0930512 -2.1196496]]  probs=[[0.5351763  0.44683945 0.01798429]]\n",
      "scale=1.0 : logits=[[ 1.3008155  1.1170001 -2.1660511]]  probs=[[0.53668106 0.44656664 0.01675233]]\n",
      "scale=10.0: logits=[[ 1.3008178  1.1170018 -2.1660554]]  probs=[[0.5366813  0.44656652 0.01675223]]\n",
      "\n",
      "=== Trial 4\n",
      "scale=0.1 : logits=[[ 1.2496158  1.0719616 -2.0828183]]  probs=[[0.5339205  0.44701532 0.01906421]]\n",
      "scale=1.0 : logits=[[ 1.300391   1.1167326 -2.1653688]]  probs=[[0.53663343 0.44659713 0.01676939]]\n",
      "scale=10.0: logits=[[ 1.3008178  1.1170018 -2.1660554]]  probs=[[0.5366813  0.44656652 0.01675223]]\n",
      "\n",
      "=== Trial 5\n",
      "scale=0.1 : logits=[[ 1.1275318  0.9727258 -1.89171  ]]  probs=[[0.5248188  0.44955    0.02563122]]\n",
      "scale=1.0 : logits=[[ 1.1102368   0.94974965 -1.855284  ]]  probs=[[0.52541363 0.4475099  0.02707647]]\n",
      "scale=10.0: logits=[[ 1.3008392  1.1169977 -2.1660597]]  probs=[[0.5366876  0.44656044 0.01675199]]\n"
     ]
    }
   ],
   "source": [
    "def scale_sensitivity_test(model, device, state_dim=49, trials=5, scales=(0.1, 1.0, 10.0)):\n",
    "    model.eval()\n",
    "    with torch.no_grad():\n",
    "        for t in range(trials):\n",
    "            base = torch.randn(1, state_dim, device=device)\n",
    "            print(f\"\\n=== Trial {t+1}\")\n",
    "            for s in scales:\n",
    "                obs = base * s\n",
    "                # 매번 hidden 초기화(순환 상태 영향 제거)\n",
    "                hx = model.init_hidden(1, device) if hasattr(model, \"init_hidden\") else None\n",
    "                logits, value, _ = call_step_or_forward(model, obs, hx)\n",
    "                probs = F.softmax(logits, dim=-1)\n",
    "                print(f\"scale={s:<4}: logits={logits.detach().cpu().numpy()}  probs={probs.detach().cpu().numpy()}\")\n",
    "\n",
    "# 사용 예\n",
    "scale_sensitivity_test(model, device, state_dim=49)\n"
   ]
  },
  {
   "cell_type": "code",
   "execution_count": null,
   "id": "9ce46e67",
   "metadata": {},
   "outputs": [
    {
     "name": "stdout",
     "output_type": "stream",
     "text": [
      "Len df[df['action']==0]: 505\n",
      "Len df[df['action']==1]: 351\n",
      "Len df[df['action']==2]: 144\n"
     ]
    }
   ],
   "source": [
    "df = pd.read_csv(\"a3c_global_env2_actions.csv\")\n",
    "print(f\"Len df[df['action']==0]: {len(df[df['action']==0])}\")\n",
    "print(f\"Len df[df['action']==1]: {len(df[df['action']==1])}\")\n",
    "print(f\"Len df[df['action']==2]: {len(df[df['action']==2])}\")\n"
   ]
  }
 ],
 "metadata": {
  "kernelspec": {
   "display_name": "torch-cert",
   "language": "python",
   "name": "python3"
  },
  "language_info": {
   "codemirror_mode": {
    "name": "ipython",
    "version": 3
   },
   "file_extension": ".py",
   "mimetype": "text/x-python",
   "name": "python",
   "nbconvert_exporter": "python",
   "pygments_lexer": "ipython3",
   "version": "3.10.12"
  }
 },
 "nbformat": 4,
 "nbformat_minor": 5
}
