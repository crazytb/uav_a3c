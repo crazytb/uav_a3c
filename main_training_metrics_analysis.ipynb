{
 "cells": [
  {
   "cell_type": "markdown",
   "id": "7628bbc4",
   "metadata": {},
   "source": [
    "# Training Metrics Analysis\n",
    "This notebook loads `runs/all_training_metrics.csv` (the master log you created while training) and plots trends for:\n",
    "- reward\n",
    "- total_loss\n",
    "- policy_loss\n",
    "- value_loss\n",
    "- entropy\n",
    "\n",
    "## How to use\n",
    "1. Set `CSV_PATH` if your file lives elsewhere.\n",
    "2. Run the **Setup** cell.\n",
    "3. Use the helper functions to plot per-run/per-label curves.\n",
    "4. Optionally set `rolling` window (e.g., 50) to smooth noisy curves.\n"
   ]
  },
  {
   "cell_type": "code",
   "execution_count": 6,
   "id": "2409456b",
   "metadata": {},
   "outputs": [
    {
     "name": "stdout",
     "output_type": "stream",
     "text": [
      "Rows: 330000\n",
      "Columns: ['run_id', 'label', 'episode', 'reward', 'policy_loss', 'value_loss', 'entropy', 'total_loss']\n",
      "\n",
      "Unique run_id: 6\n",
      "Unique labels: ['Global', 'Individual_0', 'Individual_1', 'Individual_2', 'Individual_3', 'Individual_4', 'Individual_5', 'Individual_6', 'Individual_7', 'Individual_8', 'Individual_9']\n",
      "\n",
      "Sample rows:\n"
     ]
    },
    {
     "data": {
      "application/vnd.microsoft.datawrangler.viewer.v0+json": {
       "columns": [
        {
         "name": "index",
         "rawType": "int64",
         "type": "integer"
        },
        {
         "name": "run_id",
         "rawType": "object",
         "type": "string"
        },
        {
         "name": "label",
         "rawType": "object",
         "type": "string"
        },
        {
         "name": "episode",
         "rawType": "int64",
         "type": "integer"
        },
        {
         "name": "reward",
         "rawType": "float64",
         "type": "float"
        },
        {
         "name": "policy_loss",
         "rawType": "float64",
         "type": "float"
        },
        {
         "name": "value_loss",
         "rawType": "float64",
         "type": "float"
        },
        {
         "name": "entropy",
         "rawType": "float64",
         "type": "float"
        },
        {
         "name": "total_loss",
         "rawType": "float64",
         "type": "float"
        }
       ],
       "ref": "27fd7654-a54a-444a-9794-be9a40960a00",
       "rows": [
        [
         "0",
         "a3c_20250813_165410",
         "Global",
         "1",
         "175.74166547101862",
         "0.0186161301471292",
         "21538.01106994629",
         "0.1420351117849349",
         "10769.022934875487"
        ],
        [
         "1",
         "a3c_20250813_165410",
         "Global",
         "2",
         "108.17583283002408",
         "-0.0205371605604886",
         "7644.209474487305",
         "0.0849672555807159",
         "3822.083391113281"
        ],
        [
         "2",
         "a3c_20250813_165410",
         "Global",
         "3",
         "119.30666610653113",
         "6.410503829101799e-08",
         "4769.13416015625",
         "1.2609294968157774e-06",
         "2384.567080078125"
        ],
        [
         "3",
         "a3c_20250813_165410",
         "Global",
         "4",
         "135.76999907447168",
         "1.667292934826037e-09",
         "7182.2333789062495",
         "6.677685620459784e-08",
         "3591.1166894531248"
        ],
        [
         "4",
         "a3c_20250813_165410",
         "Global",
         "5",
         "105.02166603644028",
         "1.7181750138206555e-08",
         "6444.72095703125",
         "4.231307873886481e-07",
         "3222.360478515625"
        ]
       ],
       "shape": {
        "columns": 8,
        "rows": 5
       }
      },
      "text/html": [
       "<div>\n",
       "<style scoped>\n",
       "    .dataframe tbody tr th:only-of-type {\n",
       "        vertical-align: middle;\n",
       "    }\n",
       "\n",
       "    .dataframe tbody tr th {\n",
       "        vertical-align: top;\n",
       "    }\n",
       "\n",
       "    .dataframe thead th {\n",
       "        text-align: right;\n",
       "    }\n",
       "</style>\n",
       "<table border=\"1\" class=\"dataframe\">\n",
       "  <thead>\n",
       "    <tr style=\"text-align: right;\">\n",
       "      <th></th>\n",
       "      <th>run_id</th>\n",
       "      <th>label</th>\n",
       "      <th>episode</th>\n",
       "      <th>reward</th>\n",
       "      <th>policy_loss</th>\n",
       "      <th>value_loss</th>\n",
       "      <th>entropy</th>\n",
       "      <th>total_loss</th>\n",
       "    </tr>\n",
       "  </thead>\n",
       "  <tbody>\n",
       "    <tr>\n",
       "      <th>0</th>\n",
       "      <td>a3c_20250813_165410</td>\n",
       "      <td>Global</td>\n",
       "      <td>1</td>\n",
       "      <td>175.741665</td>\n",
       "      <td>1.861613e-02</td>\n",
       "      <td>21538.011070</td>\n",
       "      <td>1.420351e-01</td>\n",
       "      <td>10769.022935</td>\n",
       "    </tr>\n",
       "    <tr>\n",
       "      <th>1</th>\n",
       "      <td>a3c_20250813_165410</td>\n",
       "      <td>Global</td>\n",
       "      <td>2</td>\n",
       "      <td>108.175833</td>\n",
       "      <td>-2.053716e-02</td>\n",
       "      <td>7644.209474</td>\n",
       "      <td>8.496726e-02</td>\n",
       "      <td>3822.083391</td>\n",
       "    </tr>\n",
       "    <tr>\n",
       "      <th>2</th>\n",
       "      <td>a3c_20250813_165410</td>\n",
       "      <td>Global</td>\n",
       "      <td>3</td>\n",
       "      <td>119.306666</td>\n",
       "      <td>6.410504e-08</td>\n",
       "      <td>4769.134160</td>\n",
       "      <td>1.260929e-06</td>\n",
       "      <td>2384.567080</td>\n",
       "    </tr>\n",
       "    <tr>\n",
       "      <th>3</th>\n",
       "      <td>a3c_20250813_165410</td>\n",
       "      <td>Global</td>\n",
       "      <td>4</td>\n",
       "      <td>135.769999</td>\n",
       "      <td>1.667293e-09</td>\n",
       "      <td>7182.233379</td>\n",
       "      <td>6.677686e-08</td>\n",
       "      <td>3591.116689</td>\n",
       "    </tr>\n",
       "    <tr>\n",
       "      <th>4</th>\n",
       "      <td>a3c_20250813_165410</td>\n",
       "      <td>Global</td>\n",
       "      <td>5</td>\n",
       "      <td>105.021666</td>\n",
       "      <td>1.718175e-08</td>\n",
       "      <td>6444.720957</td>\n",
       "      <td>4.231308e-07</td>\n",
       "      <td>3222.360479</td>\n",
       "    </tr>\n",
       "  </tbody>\n",
       "</table>\n",
       "</div>"
      ],
      "text/plain": [
       "                run_id   label  episode      reward   policy_loss  \\\n",
       "0  a3c_20250813_165410  Global        1  175.741665  1.861613e-02   \n",
       "1  a3c_20250813_165410  Global        2  108.175833 -2.053716e-02   \n",
       "2  a3c_20250813_165410  Global        3  119.306666  6.410504e-08   \n",
       "3  a3c_20250813_165410  Global        4  135.769999  1.667293e-09   \n",
       "4  a3c_20250813_165410  Global        5  105.021666  1.718175e-08   \n",
       "\n",
       "     value_loss       entropy    total_loss  \n",
       "0  21538.011070  1.420351e-01  10769.022935  \n",
       "1   7644.209474  8.496726e-02   3822.083391  \n",
       "2   4769.134160  1.260929e-06   2384.567080  \n",
       "3   7182.233379  6.677686e-08   3591.116689  \n",
       "4   6444.720957  4.231308e-07   3222.360479  "
      ]
     },
     "metadata": {},
     "output_type": "display_data"
    }
   ],
   "source": [
    "# === Setup ===\n",
    "CSV_PATH = \"runs/all_training_metrics.csv\"  # change this if needed\n",
    "\n",
    "import pandas as pd\n",
    "import matplotlib.pyplot as plt\n",
    "from pathlib import Path\n",
    "\n",
    "# Load\n",
    "df = pd.read_csv(CSV_PATH)\n",
    "\n",
    "# Basic sanity check / peek\n",
    "print(\"Rows:\", len(df))\n",
    "print(\"Columns:\", list(df.columns))\n",
    "print(\"\\nUnique run_id:\", df['run_id'].nunique())\n",
    "print(\"Unique labels:\", sorted(df['label'].unique()))\n",
    "print(\"\\nSample rows:\")\n",
    "display(df.head())\n",
    "\n",
    "# Sort for consistency\n",
    "df = df.sort_values(['run_id','label','episode']).reset_index(drop=True)\n"
   ]
  },
  {
   "cell_type": "code",
   "execution_count": 3,
   "id": "101f51b0",
   "metadata": {},
   "outputs": [],
   "source": [
    "# === Helpers ===\n",
    "def get_df(run_id=None, label=None):\n",
    "    sub = df.copy()\n",
    "    if run_id is not None:\n",
    "        sub = sub[sub['run_id'] == run_id]\n",
    "    if label is not None:\n",
    "        sub = sub[sub['label'] == label]\n",
    "    return sub.sort_values('episode')\n",
    "\n",
    "def plot_metric(run_id=None, label=None, metric='reward', rolling=None, save=False, outdir='plots'):\n",
    "    data = get_df(run_id, label)\n",
    "    if data.empty:\n",
    "        print(\"No data for the given filter.\")\n",
    "        return\n",
    "    y = data[metric]\n",
    "    if rolling is not None and rolling > 1:\n",
    "        y = y.rolling(rolling, min_periods=1).mean()\n",
    "\n",
    "    plt.figure()\n",
    "    plt.plot(data['episode'], y)\n",
    "    plt.xlabel('Episode')\n",
    "    plt.ylabel(metric.replace('_',' ').title())\n",
    "    title = f\"{metric.replace('_',' ').title()} vs Episode\"\n",
    "    if label: title += f\" - {label}\"\n",
    "    if run_id: title += f\" - {run_id}\"\n",
    "    plt.title(title)\n",
    "    plt.tight_layout()\n",
    "    if save:\n",
    "        Path(outdir).mkdir(parents=True, exist_ok=True)\n",
    "        fname = f\"{metric}_{(label or 'All')}_{(run_id or 'All')}.png\".replace('/','-')\n",
    "        plt.savefig(Path(outdir)/fname, dpi=180)\n",
    "    plt.show()\n",
    "\n",
    "def plot_compare_labels(run_id, metric='reward', rolling=None):\n",
    "    data = df[df['run_id'] == run_id]\n",
    "    if data.empty:\n",
    "        print(\"No data for this run_id.\")\n",
    "        return\n",
    "    labels = sorted(data['label'].unique())\n",
    "    plt.figure()\n",
    "    for lb in labels:\n",
    "        sub = data[data['label'] == lb].sort_values('episode')\n",
    "        series = sub[metric]\n",
    "        if rolling is not None and rolling > 1:\n",
    "            series = series.rolling(rolling, min_periods=1).mean()\n",
    "        plt.plot(sub['episode'], series, label=lb)\n",
    "    plt.xlabel('Episode')\n",
    "    plt.ylabel(metric.replace('_',' ').title())\n",
    "    plt.title(f\"{metric.replace('_',' ').title()} vs Episode - {run_id}\")\n",
    "    plt.legend()\n",
    "    plt.tight_layout()\n",
    "    plt.show()\n"
   ]
  },
  {
   "cell_type": "markdown",
   "id": "ee711a7c",
   "metadata": {},
   "source": [
    "## Quick start\n",
    "- The next cell picks the most recent `run_id` by default and label `\"Global\"`.\n",
    "- Adjust `RUN_ID` and `LABEL` as needed.\n"
   ]
  },
  {
   "cell_type": "code",
   "execution_count": 8,
   "id": "414acf09",
   "metadata": {},
   "outputs": [
    {
     "name": "stdout",
     "output_type": "stream",
     "text": [
      "No data for the given filter.\n",
      "No data for the given filter.\n",
      "No data for the given filter.\n",
      "No data for the given filter.\n",
      "No data for the given filter.\n",
      "No data for this run_id.\n",
      "No data for this run_id.\n",
      "No data for this run_id.\n",
      "No data for this run_id.\n",
      "No data for this run_id.\n"
     ]
    }
   ],
   "source": [
    "# Pick defaults\n",
    "# RUN_ID = df['run_id'].iloc[-1] if len(df) else None\n",
    "RUN_ID = \"a3c_20250813_174331\"\n",
    "LABEL = \"Global\"  # or e.g., \"Individual_0\"\n",
    "\n",
    "# Single-label plots (saved as PNG too)\n",
    "plot_metric(RUN_ID, LABEL, 'reward', rolling=50, save=True)\n",
    "plot_metric(RUN_ID, LABEL, 'total_loss', rolling=50, save=True)\n",
    "plot_metric(RUN_ID, LABEL, 'policy_loss', rolling=50, save=True)\n",
    "plot_metric(RUN_ID, LABEL, 'value_loss', rolling=50, save=True)\n",
    "plot_metric(RUN_ID, LABEL, 'entropy', rolling=50, save=True)\n",
    "\n",
    "# Compare all labels within a run (one chart per metric)\n",
    "plot_compare_labels(RUN_ID, 'reward', rolling=50)\n",
    "plot_compare_labels(RUN_ID, 'total_loss', rolling=50)\n",
    "plot_compare_labels(RUN_ID, 'policy_loss', rolling=50)\n",
    "plot_compare_labels(RUN_ID, 'value_loss', rolling=50)\n",
    "plot_compare_labels(RUN_ID, 'entropy', rolling=50)\n"
   ]
  }
 ],
 "metadata": {
  "kernelspec": {
   "display_name": "torch-cert",
   "language": "python",
   "name": "python3"
  },
  "language_info": {
   "codemirror_mode": {
    "name": "ipython",
    "version": 3
   },
   "file_extension": ".py",
   "mimetype": "text/x-python",
   "name": "python",
   "nbconvert_exporter": "python",
   "pygments_lexer": "ipython3",
   "version": "3.10.12"
  }
 },
 "nbformat": 4,
 "nbformat_minor": 5
}
