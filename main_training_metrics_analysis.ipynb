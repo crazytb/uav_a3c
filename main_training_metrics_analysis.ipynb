{
 "cells": [
  {
   "cell_type": "markdown",
   "id": "7628bbc4",
   "metadata": {},
   "source": [
    "# Training Metrics Analysis\n",
    "This notebook loads `runs/all_training_metrics.csv` (the master log you created while training) and plots trends for:\n",
    "- reward\n",
    "- total_loss\n",
    "- policy_loss\n",
    "- value_loss\n",
    "- entropy\n",
    "\n",
    "## How to use\n",
    "1. Set `CSV_PATH` if your file lives elsewhere.\n",
    "2. Run the **Setup** cell.\n",
    "3. Use the helper functions to plot per-run/per-label curves.\n",
    "4. Optionally set `rolling` window (e.g., 50) to smooth noisy curves.\n"
   ]
  },
  {
   "cell_type": "code",
   "execution_count": 11,
   "id": "2409456b",
   "metadata": {},
   "outputs": [
    {
     "name": "stdout",
     "output_type": "stream",
     "text": [
      "Rows: 30000\n",
      "Columns: ['run_id', 'label', 'episode', 'reward', 'policy_loss', 'value_loss', 'entropy', 'total_loss']\n",
      "\n",
      "Unique run_id: 2\n",
      "Unique labels: ['Global', 'Individual_0', 'Individual_1', 'Individual_2', 'Individual_3', 'Individual_4']\n",
      "\n",
      "Sample rows:\n"
     ]
    },
    {
     "data": {
      "application/vnd.microsoft.datawrangler.viewer.v0+json": {
       "columns": [
        {
         "name": "index",
         "rawType": "int64",
         "type": "integer"
        },
        {
         "name": "run_id",
         "rawType": "object",
         "type": "string"
        },
        {
         "name": "label",
         "rawType": "object",
         "type": "string"
        },
        {
         "name": "episode",
         "rawType": "int64",
         "type": "integer"
        },
        {
         "name": "reward",
         "rawType": "float64",
         "type": "float"
        },
        {
         "name": "policy_loss",
         "rawType": "float64",
         "type": "float"
        },
        {
         "name": "value_loss",
         "rawType": "float64",
         "type": "float"
        },
        {
         "name": "entropy",
         "rawType": "float64",
         "type": "float"
        },
        {
         "name": "total_loss",
         "rawType": "float64",
         "type": "float"
        }
       ],
       "ref": "a3f69051-a6a3-438d-8450-e97da693853b",
       "rows": [
        [
         "0",
         "a3c_20250826_030707",
         "Global",
         "1",
         "1491.246",
         "-0.0051871262490748",
         "41593.755859375",
         "1.0952641487121582",
         "20796.87158203125"
        ],
        [
         "1",
         "a3c_20250826_030707",
         "Global",
         "2",
         "1560.9419999999998",
         "0.0029427763074636",
         "23223.32978515625",
         "1.0958304405212402",
         "11611.666650390624"
        ],
        [
         "2",
         "a3c_20250826_030707",
         "Global",
         "3",
         "1510.9320000000005",
         "-0.0037636674940586",
         "32767.535693359376",
         "1.0957996606826783",
         "16383.762731933592"
        ],
        [
         "3",
         "a3c_20250826_030707",
         "Global",
         "4",
         "1599.9620000000002",
         "-0.0005584973259828",
         "56653.4287109375",
         "1.0956923484802246",
         "28326.712890625"
        ],
        [
         "4",
         "a3c_20250826_030707",
         "Global",
         "5",
         "1515.4740000000002",
         "-0.0134021498262882",
         "28178.1810546875",
         "1.095863080024719",
         "14089.0759765625"
        ]
       ],
       "shape": {
        "columns": 8,
        "rows": 5
       }
      },
      "text/html": [
       "<div>\n",
       "<style scoped>\n",
       "    .dataframe tbody tr th:only-of-type {\n",
       "        vertical-align: middle;\n",
       "    }\n",
       "\n",
       "    .dataframe tbody tr th {\n",
       "        vertical-align: top;\n",
       "    }\n",
       "\n",
       "    .dataframe thead th {\n",
       "        text-align: right;\n",
       "    }\n",
       "</style>\n",
       "<table border=\"1\" class=\"dataframe\">\n",
       "  <thead>\n",
       "    <tr style=\"text-align: right;\">\n",
       "      <th></th>\n",
       "      <th>run_id</th>\n",
       "      <th>label</th>\n",
       "      <th>episode</th>\n",
       "      <th>reward</th>\n",
       "      <th>policy_loss</th>\n",
       "      <th>value_loss</th>\n",
       "      <th>entropy</th>\n",
       "      <th>total_loss</th>\n",
       "    </tr>\n",
       "  </thead>\n",
       "  <tbody>\n",
       "    <tr>\n",
       "      <th>0</th>\n",
       "      <td>a3c_20250826_030707</td>\n",
       "      <td>Global</td>\n",
       "      <td>1</td>\n",
       "      <td>1491.246</td>\n",
       "      <td>-0.005187</td>\n",
       "      <td>41593.755859</td>\n",
       "      <td>1.095264</td>\n",
       "      <td>20796.871582</td>\n",
       "    </tr>\n",
       "    <tr>\n",
       "      <th>1</th>\n",
       "      <td>a3c_20250826_030707</td>\n",
       "      <td>Global</td>\n",
       "      <td>2</td>\n",
       "      <td>1560.942</td>\n",
       "      <td>0.002943</td>\n",
       "      <td>23223.329785</td>\n",
       "      <td>1.095830</td>\n",
       "      <td>11611.666650</td>\n",
       "    </tr>\n",
       "    <tr>\n",
       "      <th>2</th>\n",
       "      <td>a3c_20250826_030707</td>\n",
       "      <td>Global</td>\n",
       "      <td>3</td>\n",
       "      <td>1510.932</td>\n",
       "      <td>-0.003764</td>\n",
       "      <td>32767.535693</td>\n",
       "      <td>1.095800</td>\n",
       "      <td>16383.762732</td>\n",
       "    </tr>\n",
       "    <tr>\n",
       "      <th>3</th>\n",
       "      <td>a3c_20250826_030707</td>\n",
       "      <td>Global</td>\n",
       "      <td>4</td>\n",
       "      <td>1599.962</td>\n",
       "      <td>-0.000558</td>\n",
       "      <td>56653.428711</td>\n",
       "      <td>1.095692</td>\n",
       "      <td>28326.712891</td>\n",
       "    </tr>\n",
       "    <tr>\n",
       "      <th>4</th>\n",
       "      <td>a3c_20250826_030707</td>\n",
       "      <td>Global</td>\n",
       "      <td>5</td>\n",
       "      <td>1515.474</td>\n",
       "      <td>-0.013402</td>\n",
       "      <td>28178.181055</td>\n",
       "      <td>1.095863</td>\n",
       "      <td>14089.075977</td>\n",
       "    </tr>\n",
       "  </tbody>\n",
       "</table>\n",
       "</div>"
      ],
      "text/plain": [
       "                run_id   label  episode    reward  policy_loss    value_loss  \\\n",
       "0  a3c_20250826_030707  Global        1  1491.246    -0.005187  41593.755859   \n",
       "1  a3c_20250826_030707  Global        2  1560.942     0.002943  23223.329785   \n",
       "2  a3c_20250826_030707  Global        3  1510.932    -0.003764  32767.535693   \n",
       "3  a3c_20250826_030707  Global        4  1599.962    -0.000558  56653.428711   \n",
       "4  a3c_20250826_030707  Global        5  1515.474    -0.013402  28178.181055   \n",
       "\n",
       "    entropy    total_loss  \n",
       "0  1.095264  20796.871582  \n",
       "1  1.095830  11611.666650  \n",
       "2  1.095800  16383.762732  \n",
       "3  1.095692  28326.712891  \n",
       "4  1.095863  14089.075977  "
      ]
     },
     "metadata": {},
     "output_type": "display_data"
    }
   ],
   "source": [
    "# === Setup ===\n",
    "stamp = \"20250826_030707\"\n",
    "CSV_PATH = f\"runs/all_training_metrics_{stamp}.csv\"  # change this if needed\n",
    "\n",
    "import pandas as pd\n",
    "import matplotlib.pyplot as plt\n",
    "from pathlib import Path\n",
    "from drl_framework import params\n",
    "\n",
    "# Load\n",
    "df = pd.read_csv(CSV_PATH)\n",
    "\n",
    "# Basic sanity check / peek\n",
    "print(\"Rows:\", len(df))\n",
    "print(\"Columns:\", list(df.columns))\n",
    "print(\"\\nUnique run_id:\", df['run_id'].nunique())\n",
    "print(\"Unique labels:\", sorted(df['label'].unique()))\n",
    "print(\"\\nSample rows:\")\n",
    "display(df.head())\n",
    "\n",
    "# Sort for consistency\n",
    "df = df.sort_values(['run_id','label','episode']).reset_index(drop=True)\n"
   ]
  },
  {
   "cell_type": "code",
   "execution_count": 2,
   "id": "101f51b0",
   "metadata": {},
   "outputs": [],
   "source": [
    "# === Helpers ===\n",
    "def get_df(run_id=None, label=None):\n",
    "    sub = df.copy()\n",
    "    if run_id is not None:\n",
    "        sub = sub[sub['run_id'] == run_id]\n",
    "    if label is not None:\n",
    "        sub = sub[sub['label'] == label]\n",
    "    return sub.sort_values('episode')\n",
    "\n",
    "def plot_metric(run_id=None, label=None, metric='reward', rolling=None, save=False, outdir='plots'):\n",
    "    data = get_df(run_id, label)\n",
    "    if data.empty:\n",
    "        print(\"No data for the given filter.\")\n",
    "        return\n",
    "    y = data[metric]\n",
    "    if rolling is not None and rolling > 1:\n",
    "        y = y.rolling(rolling, min_periods=1).mean()\n",
    "\n",
    "    plt.figure()\n",
    "    plt.plot(data['episode'], y)\n",
    "    plt.xlabel('Episode')\n",
    "    plt.ylabel(metric.replace('_',' ').title())\n",
    "    title = f\"{metric.replace('_',' ').title()} vs Episode\"\n",
    "    if label: title += f\" - {label}\"\n",
    "    if run_id: title += f\" - {run_id}\"\n",
    "    plt.title(title)\n",
    "    plt.tight_layout()\n",
    "    if save:\n",
    "        Path(outdir).mkdir(parents=True, exist_ok=True)\n",
    "        fname = f\"{metric}_{(label or 'All')}_{(run_id or 'All')}.png\".replace('/','-')\n",
    "        plt.savefig(Path(outdir)/fname, dpi=180)\n",
    "    plt.show()\n",
    "\n",
    "def plot_compare_labels(run_id, metric='reward', rolling=None):\n",
    "    data = df[df['run_id'] == run_id]\n",
    "    if data.empty:\n",
    "        print(\"No data for this run_id.\")\n",
    "        return\n",
    "    labels = sorted(data['label'].unique())\n",
    "    plt.figure()\n",
    "    for lb in labels:\n",
    "        sub = data[data['label'] == lb].sort_values('episode')\n",
    "        series = sub[metric]\n",
    "        if rolling is not None and rolling > 1:\n",
    "            series = series.rolling(rolling, min_periods=1).mean()\n",
    "        plt.plot(sub['episode'], series, label=lb)\n",
    "    plt.xlabel('Episode')\n",
    "    plt.ylabel(metric.replace('_',' ').title())\n",
    "    plt.title(f\"{metric.replace('_',' ').title()} vs Episode - {run_id}\")\n",
    "    plt.legend()\n",
    "    plt.tight_layout()\n",
    "    plt.show()\n"
   ]
  },
  {
   "cell_type": "markdown",
   "id": "ee711a7c",
   "metadata": {},
   "source": [
    "## Quick start\n",
    "- The next cell picks the most recent `run_id` by default and label `\"Global\"`.\n",
    "- Adjust `RUN_ID` and `LABEL` as needed.\n"
   ]
  },
  {
   "cell_type": "code",
   "execution_count": null,
   "id": "414acf09",
   "metadata": {},
   "outputs": [],
   "source": [
    "# Pick defaults\n",
    "# RUN_ID = df['run_id'].iloc[-1] if len(df) else None\n",
    "RUN_ID = \"individual_20250814_024420\"\n",
    "LABEL = \"Global\"  # or e.g., \"Individual_0\"\n",
    "\n",
    "# Single-label plots (saved as PNG too)\n",
    "plot_metric(RUN_ID, LABEL, 'reward', rolling=50, save=True)\n",
    "plot_metric(RUN_ID, LABEL, 'total_loss', rolling=50, save=True)\n",
    "plot_metric(RUN_ID, LABEL, 'policy_loss', rolling=50, save=True)\n",
    "plot_metric(RUN_ID, LABEL, 'value_loss', rolling=50, save=True)\n",
    "plot_metric(RUN_ID, LABEL, 'entropy', rolling=50, save=True)\n",
    "\n",
    "# Compare all labels within a run (one chart per metric)\n",
    "plot_compare_labels(RUN_ID, 'reward', rolling=50)\n",
    "plot_compare_labels(RUN_ID, 'total_loss', rolling=50)\n",
    "plot_compare_labels(RUN_ID, 'policy_loss', rolling=50)\n",
    "plot_compare_labels(RUN_ID, 'value_loss', rolling=50)\n",
    "plot_compare_labels(RUN_ID, 'entropy', rolling=50)\n"
   ]
  },
  {
   "cell_type": "code",
   "execution_count": 12,
   "id": "1e26f57f",
   "metadata": {},
   "outputs": [
    {
     "data": {
      "text/plain": [
       "<matplotlib.legend.Legend at 0x319969900>"
      ]
     },
     "execution_count": 12,
     "metadata": {},
     "output_type": "execute_result"
    },
    {
     "data": {
      "image/png": "[encoded data removed]",
      "text/plain": [
       "<Figure size 640x480 with 1 Axes>"
      ]
     },
     "metadata": {},
     "output_type": "display_data"
    }
   ],
   "source": [
    "plt.figure()\n",
    "rolling = 100\n",
    "\n",
    "for label in sorted(df['label'].unique()):\n",
    "    if label == 'Global':\n",
    "        plt.plot(df[df['label']==label]['episode'], df[df['label']==label]['reward'].rolling(rolling, min_periods=1).mean(), label=label)\n",
    "    else:\n",
    "        plt.plot(df[df['label']==label]['episode'], df[df['label']==label]['reward'].rolling(rolling, min_periods=1).mean(), label=label)\n",
    "\n",
    "plt.xlabel('Episode')\n",
    "plt.ylabel('Reward')\n",
    "plt.legend()"
   ]
  },
  {
   "cell_type": "code",
   "execution_count": 4,
   "id": "720ea956",
   "metadata": {},
   "outputs": [
    {
     "data": {
      "text/plain": [
       "<All keys matched successfully>"
      ]
     },
     "execution_count": 4,
     "metadata": {},
     "output_type": "execute_result"
    }
   ],
   "source": [
    "from drl_framework.networks import RecurrentActorCritic\n",
    "from drl_framework.custom_env import make_env\n",
    "from drl_framework.utils import flatten_dict_values\n",
    "import drl_framework.params as params\n",
    "import torch\n",
    "import torch.nn.functional as F\n",
    "\n",
    "device = params.device\n",
    "ENV_PARAMS = params.ENV_PARAMS\n",
    "REWARD_PARAMS = params.REWARD_PARAMS\n",
    "hidden_dim = params.hidden_dim\n",
    "n_workers = params.n_workers\n",
    "\n",
    "# 임시 env로 상태/행동 차원 파악\n",
    "temp_env_fn = make_env(**ENV_PARAMS)\n",
    "temp_env = temp_env_fn()\n",
    "sample_obs, _ = temp_env.reset()\n",
    "state_dim = len(flatten_dict_values(sample_obs))\n",
    "action_dim = temp_env.action_space.n\n",
    "temp_env.close()\n",
    "\n",
    "model_path = f\"runs/a3c_{stamp}/models/global_final.pth\"\n",
    "model = RecurrentActorCritic(state_dim, action_dim, hidden_dim).to(device)\n",
    "state_dict = torch.load(model_path, map_location=device)\n",
    "model.load_state_dict(state_dict)"
   ]
  },
  {
   "cell_type": "code",
   "execution_count": 5,
   "id": "9e60fcb2",
   "metadata": {},
   "outputs": [
    {
     "name": "stdout",
     "output_type": "stream",
     "text": [
      "\n",
      "=== Test 1 ===\n",
      "Sample action logits: [[ 1.5154613 -1.5669299 -1.2538335]]\n",
      "Prob distribution: [[0.9020747  0.04135966 0.05656568]]\n",
      "\n",
      "=== Test 2 ===\n",
      "Sample action logits: [[-0.45662838 -4.8859606   1.7549114 ]]\n",
      "Prob distribution: [[0.09860294 0.00117559 0.9002215 ]]\n",
      "\n",
      "=== Test 3 ===\n",
      "Sample action logits: [[ 1.8834412 -3.7209797 -0.2989024]]\n",
      "Prob distribution: [[0.8956894  0.00329753 0.1010131 ]]\n",
      "\n",
      "=== Test 4 ===\n",
      "Sample action logits: [[-0.45836872 -4.96035     1.9562528 ]]\n",
      "Prob distribution: [[8.198991e-02 9.090226e-04 9.171011e-01]]\n",
      "\n",
      "=== Test 5 ===\n",
      "Sample action logits: [[-0.04486919 -4.2846003   1.3958693 ]]\n",
      "Prob distribution: [[0.19090436 0.00275121 0.80634445]]\n",
      "\n",
      "=== Test 6 ===\n",
      "Sample action logits: [[ 0.9902324  -3.2649152  -0.19518155]]\n",
      "Prob distribution: [[0.75768447 0.0107523  0.23156324]]\n",
      "\n",
      "=== Test 7 ===\n",
      "Sample action logits: [[ 0.9612325 -4.568501   1.1256366]]\n",
      "Prob distribution: [[0.45815706 0.00181753 0.5400254 ]]\n",
      "\n",
      "=== Test 8 ===\n",
      "Sample action logits: [[ 1.9503788  -0.45031732 -2.2548397 ]]\n",
      "Prob distribution: [[0.9045089  0.0819981  0.01349304]]\n",
      "\n",
      "=== Test 9 ===\n",
      "Sample action logits: [[-0.5635324 -4.653612   1.8278995]]\n",
      "Prob distribution: [[0.08371095 0.00140115 0.9148879 ]]\n",
      "\n",
      "=== Test 10 ===\n",
      "Sample action logits: [[ 0.9893002  -2.9371278  -0.64120686]]\n",
      "Prob distribution: [[0.8226768  0.01621822 0.16110502]]\n"
     ]
    }
   ],
   "source": [
    "model.eval()\n",
    "hx = model.init_hidden(batch_size=1, device=device)\n",
    "\n",
    "with torch.no_grad():\n",
    "    for i in range(10):  # 10번 반복 테스트\n",
    "        # (1, 49) 크기의 랜덤 텐서 생성\n",
    "        obs_tensor = torch.randn(1, 49, dtype=torch.float32, device=device)\n",
    "        hx = model.init_hidden(batch_size=1, device=device) \n",
    "\n",
    "        logits, value, hx = model.step(obs_tensor, hx)\n",
    "        print(f\"\\n=== Test {i+1} ===\")\n",
    "        print(\"Sample action logits:\", logits.cpu().numpy())\n",
    "        print(\"Prob distribution:\", F.softmax(logits, dim=-1).cpu().numpy())"
   ]
  },
  {
   "cell_type": "code",
   "execution_count": 6,
   "id": "4f77076c",
   "metadata": {},
   "outputs": [],
   "source": [
    "def call_step_or_forward(model, obs, hx=None):\n",
    "    \"\"\"model.step이 있으면 (logits,value,hx)로 가정하고 호출,\n",
    "       없으면 model(obs) 호출 (logits,value) 또는 logits 만 반환.\"\"\"\n",
    "    if hasattr(model, \"step\"):\n",
    "        if hx is None and hasattr(model, \"init_hidden\"):\n",
    "            hx = model.init_hidden(batch_size=obs.shape[0], device=obs.device)\n",
    "        return model.step(obs, hx)\n",
    "    else:\n",
    "        out = model(obs)\n",
    "        # 반환 형태 정리\n",
    "        if isinstance(out, tuple):\n",
    "            if len(out) == 3:   # (logits, value, hx)\n",
    "                return out\n",
    "            elif len(out) == 2: # (logits, value)\n",
    "                logits, value = out\n",
    "                return logits, value, None\n",
    "        # logits만 있는 경우\n",
    "        return out, None, None"
   ]
  },
  {
   "cell_type": "code",
   "execution_count": 7,
   "id": "91350729",
   "metadata": {},
   "outputs": [
    {
     "name": "stdout",
     "output_type": "stream",
     "text": [
      "\n",
      "[Param norms: smallest first]\n",
      "policy.bias                                         norm=8.4864e-02  mean|p|=3.9268e-02  shape=(3,)\n",
      "value.bias                                          norm=2.2639e-01  mean|p|=2.2639e-01  shape=(1,)\n",
      "feature.0.bias                                      norm=4.6441e-01  mean|p|=3.7075e-02  shape=(128,)\n",
      "policy.weight                                       norm=2.0207e+00  mean|p|=8.3301e-02  shape=(3, 128)\n",
      "rnn.bias_hh_l0                                      norm=2.1597e+00  mean|p|=8.5255e-02  shape=(384,)\n",
      "rnn.bias_ih_l0                                      norm=2.1828e+00  mean|p|=8.5330e-02  shape=(384,)\n",
      "value.weight                                        norm=3.7587e+00  mean|p|=3.2552e-01  shape=(1, 128)\n",
      "feature.0.weight                                    norm=8.0673e+00  mean|p|=7.8680e-02  shape=(128, 49)\n",
      "rnn.weight_hh_l0                                    norm=1.6010e+01  mean|p|=5.8771e-02  shape=(384, 128)\n",
      "rnn.weight_ih_l0                                    norm=2.4320e+01  mean|p|=8.7609e-02  shape=(384, 128)\n",
      "\n",
      "[Param norms: largest first]\n",
      "rnn.weight_ih_l0                                    norm=2.4320e+01  mean|p|=8.7609e-02  shape=(384, 128)\n",
      "rnn.weight_hh_l0                                    norm=1.6010e+01  mean|p|=5.8771e-02  shape=(384, 128)\n",
      "feature.0.weight                                    norm=8.0673e+00  mean|p|=7.8680e-02  shape=(128, 49)\n",
      "value.weight                                        norm=3.7587e+00  mean|p|=3.2552e-01  shape=(1, 128)\n",
      "rnn.bias_ih_l0                                      norm=2.1828e+00  mean|p|=8.5330e-02  shape=(384,)\n",
      "rnn.bias_hh_l0                                      norm=2.1597e+00  mean|p|=8.5255e-02  shape=(384,)\n",
      "policy.weight                                       norm=2.0207e+00  mean|p|=8.3301e-02  shape=(3, 128)\n",
      "feature.0.bias                                      norm=4.6441e-01  mean|p|=3.7075e-02  shape=(128,)\n",
      "value.bias                                          norm=2.2639e-01  mean|p|=2.2639e-01  shape=(1,)\n",
      "policy.bias                                         norm=8.4864e-02  mean|p|=3.9268e-02  shape=(3,)\n"
     ]
    }
   ],
   "source": [
    "def print_param_norms(model, topk=10):\n",
    "    stats = []\n",
    "    with torch.no_grad():\n",
    "        for n, p in model.named_parameters():\n",
    "            try:\n",
    "                stats.append((n, p.norm().item(), p.abs().mean().item(), p.shape))\n",
    "            except Exception:\n",
    "                pass\n",
    "    stats.sort(key=lambda x: x[1])  # norm 기준 오름차순\n",
    "    print(\"\\n[Param norms: smallest first]\")\n",
    "    for n, nrm, mean_abs, shape in stats[:topk]:\n",
    "        print(f\"{n:50s}  norm={nrm:.4e}  mean|p|={mean_abs:.4e}  shape={tuple(shape)}\")\n",
    "    print(\"\\n[Param norms: largest first]\")\n",
    "    for n, nrm, mean_abs, shape in stats[-topk:][::-1]:\n",
    "        print(f\"{n:50s}  norm={nrm:.4e}  mean|p|={mean_abs:.4e}  shape={tuple(shape)}\")\n",
    "\n",
    "# 사용 예\n",
    "model.eval()\n",
    "print_param_norms(model)\n"
   ]
  },
  {
   "cell_type": "code",
   "execution_count": 30,
   "id": "17fbd610",
   "metadata": {},
   "outputs": [
    {
     "name": "stdout",
     "output_type": "stream",
     "text": [
      "\n",
      "=== Trial 1\n",
      "scale=0.1 : logits=[[-0.47475374 -0.2897398 ]]  probs=[[0.45387802 0.546122  ]]\n",
      "scale=1.0 : logits=[[-1.2214231  -0.00710053]]  probs=[[0.22893712 0.77106285]]\n",
      "scale=10.0: logits=[[-1.7729201   0.76798356]]  probs=[[0.07303997 0.92696   ]]\n",
      "\n",
      "=== Trial 2\n",
      "scale=0.1 : logits=[[-0.7297659 -0.5716473]]  probs=[[0.46055248 0.5394475 ]]\n",
      "scale=1.0 : logits=[[-0.85325205 -0.65654   ]]  probs=[[0.45097995 0.54902005]]\n",
      "scale=10.0: logits=[[-0.85754687 -0.6570028 ]]  probs=[[0.45003137 0.54996866]]\n",
      "\n",
      "=== Trial 3\n",
      "scale=0.1 : logits=[[-0.6661822  -0.49808225]]  probs=[[0.4580737 0.5419263]]\n",
      "scale=1.0 : logits=[[-0.82530844 -0.61775124]]  probs=[[0.4482962 0.5517038]]\n",
      "scale=10.0: logits=[[-0.85754687 -0.6570028 ]]  probs=[[0.45003137 0.54996866]]\n",
      "\n",
      "=== Trial 4\n",
      "scale=0.1 : logits=[[-0.6506086 -0.5294117]]  probs=[[0.46973777 0.5302622 ]]\n",
      "scale=1.0 : logits=[[-0.76812416 -0.627686  ]]  probs=[[0.46494806 0.53505194]]\n",
      "scale=10.0: logits=[[-0.8575468 -0.6570028]]  probs=[[0.45003137 0.54996866]]\n",
      "\n",
      "=== Trial 5\n",
      "scale=0.1 : logits=[[-0.7100944  -0.53321743]]  probs=[[0.45589572 0.54410434]]\n",
      "scale=1.0 : logits=[[-0.84281147 -0.6455952 ]]  probs=[[0.45085514 0.5491449 ]]\n",
      "scale=10.0: logits=[[-0.85754687 -0.6570028 ]]  probs=[[0.45003137 0.54996866]]\n"
     ]
    }
   ],
   "source": [
    "def scale_sensitivity_test(model, device, state_dim=49, trials=5, scales=(0.1, 1.0, 10.0)):\n",
    "    model.eval()\n",
    "    with torch.no_grad():\n",
    "        for t in range(trials):\n",
    "            base = torch.randn(1, state_dim, device=device)\n",
    "            print(f\"\\n=== Trial {t+1}\")\n",
    "            for s in scales:\n",
    "                obs = base * s\n",
    "                # 매번 hidden 초기화(순환 상태 영향 제거)\n",
    "                hx = model.init_hidden(1, device) if hasattr(model, \"init_hidden\") else None\n",
    "                logits, value, _ = call_step_or_forward(model, obs, hx)\n",
    "                probs = F.softmax(logits, dim=-1)\n",
    "                print(f\"scale={s:<4}: logits={logits.detach().cpu().numpy()}  probs={probs.detach().cpu().numpy()}\")\n",
    "\n",
    "# 사용 예\n",
    "scale_sensitivity_test(model, device, state_dim=49)\n"
   ]
  }
 ],
 "metadata": {
  "kernelspec": {
   "display_name": "torch-cert",
   "language": "python",
   "name": "python3"
  },
  "language_info": {
   "codemirror_mode": {
    "name": "ipython",
    "version": 3
   },
   "file_extension": ".py",
   "mimetype": "text/x-python",
   "name": "python",
   "nbconvert_exporter": "python",
   "pygments_lexer": "ipython3",
   "version": "3.10.12"
  }
 },
 "nbformat": 4,
 "nbformat_minor": 5
}
